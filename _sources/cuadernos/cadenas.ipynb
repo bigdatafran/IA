{
 "cells": [
  {
   "cell_type": "markdown",
   "id": "a6016ee8-d32d-4087-b1ad-93bd17f3bbd1",
   "metadata": {},
   "source": [
    "# Introducción a las cadena en LangChain.\n",
    "\n",
    "En este capítulo vamos a contemplar los siguientes aspectos:\n",
    "\n",
    "* ¿Cómo crear cadenas para construir aplicaciones complejas?\n",
    "  \n",
    "* ¿Cómo crear un modelo secuencial para combinar cadenas?\n",
    "\n",
    "* ¿Cómo enrutar a la mejor cadena?\n",
    "\n",
    "* ¿Cómo crear cadenas avanzadas de transformación y preguntas/respuestas sobre nuestros datos vectorizados?"
   ]
  },
  {
   "cell_type": "markdown",
   "id": "1b88b6ef-8ac3-492a-82a4-3879d1ec2dea",
   "metadata": {},
   "source": [
    "##  Cadenas de forma secuencial.\n",
    "```{index} LLMChain\n",
    "```\n",
    "\n",
    "Las cadenas nos permiten combinar múltiples componentes para crear una aplicación única y coherente. Por ejemplo, podemos crear una cadena que tome la entrada del usuario , la formatee con PromptTemplate y luego pase la respuesta formateada a un LLM . Podemos construir cadenas más complejas combinando varias cadenas o combinando cadenas con otros componentes, por tanto, las cadenas nos permite vincular la salida de una llamada\n",
    "LLM con la entrada de otra llamada LLM.\n",
    "\n",
    "Las cadenas tienen un componente básico conocido como objeto LLMChain . Podemos pensar en LLMChain como una simple llamada a LLM que tendrá una entrada (normalmente el prompt o solicitud) y una salida (el resultado).\n",
    "\n",
    "Si encadenamos varios LLMChain podemos tener un modelo secuencial, el modelo secuencial simple tiene solo 1 entrada global y 1 salida global, no nos proporciona los resultados intermedios. Cada objeto LLMChain intermedio solo tiene 1 entrada y 1 salida, por tanto la salida de 1.\n",
    "\n",
    "El tema de manejo de cadenas en LangChain, lo podemos encontrar en el siguiente enlace:\n",
    "\n",
    "https://python.langchain.com/v0.1/docs/modules/chains/\n",
    "\n",
    "Veamos a continuación un ejemplo de cadena secuencial"
   ]
  },
  {
   "cell_type": "code",
   "execution_count": null,
   "id": "081b3ad0-8975-46b3-a299-e1b258231b17",
   "metadata": {},
   "outputs": [],
   "source": [
    "import langchain\n",
    "from langchain_openai import ChatOpenAI\n",
    "from langchain.prompts import PromptTemplate, SystemMessagePromptTemplate,ChatPromptTemplate, HumanMessagePromptTemplate\n",
    "\n",
    "chat = ChatOpenAI(\n",
    "    model=\"llama3.2\",\n",
    "    base_url = 'http://localhost:11434/v1',\n",
    "    api_key='ollama', # required, but unused,\n",
    ")\n"
   ]
  },
  {
   "cell_type": "markdown",
   "id": "6768a375-fb60-4fb8-ad08-48a439567d03",
   "metadata": {},
   "source": [
    "## Creación de un objeto de tipo LLMCahain.\n",
    "\n",
    "Veamos a continuación cómo se construyen estos objetos"
   ]
  },
  {
   "cell_type": "code",
   "execution_count": null,
   "id": "ad776a8d-fb41-4693-989e-274c34fe1ed8",
   "metadata": {},
   "outputs": [],
   "source": [
    "human_message_prompt = HumanMessagePromptTemplate.from_template(\n",
    "        \"Dame un nombre de compañía que sea simpático para una compañía que fabrique {producto}\"\n",
    "    )\n",
    "\n",
    "chat_prompt_template = ChatPromptTemplate.from_messages([human_message_prompt])\n",
    "\n",
    "from langchain.chains import LLMChain\n",
    "chain = LLMChain(llm=chat, prompt=chat_prompt_template)\n",
    "\n",
    "print(chain.invoke(input=\"Lavadoras\"))"
   ]
  },
  {
   "cell_type": "markdown",
   "id": "36476708-a5cc-4d54-87cd-594d3bfcd9bf",
   "metadata": {},
   "source": [
    "Como vemos la ejecución del código anterior nos devuelve un warning, indicando que en un futuro esa construcción no se va a permitir. En concreto el warning recibido es el siguiente:\n",
    "\n",
    "```\n",
    "LangChainDeprecationWarning: The class `LLMChain` was deprecated in LangChain 0.1.17 and will be removed in 1.0. Use :meth:`~RunnableSequence, e.g., `prompt | llm`` instead.\n",
    "  chain = LLMChain(llm=chat, prompt=chat_prompt_template)\n",
    "```\n",
    "\n",
    "Esto lo podemos ver en la documentación de Langchain, en este enlace:\n",
    "\n",
    "https://api.python.langchain.com/en/latest/chains/langchain.chains.llm.LLMChain.html\n",
    "\n",
    "A continuación procedemos a modificar las instrucciones anteriores para adaptarlas a lo que será permitido en el futuro"
   ]
  },
  {
   "cell_type": "code",
   "execution_count": null,
   "id": "def71b85-6599-43c8-bd28-43a6e02a5688",
   "metadata": {},
   "outputs": [],
   "source": [
    "chain = chat_prompt_template | chat\n",
    "print(chain.invoke(input=\"Lavadoras\"))"
   ]
  },
  {
   "cell_type": "markdown",
   "id": "6efe59ff-9625-4a2e-9a4c-e08b8de3c997",
   "metadata": {},
   "source": [
    "## Cadena secuencial simple.\n",
    "\n",
    "Veamos a continuación un ejemplo de concatenación de cadenas simples, en el sentido de que el resultado de una cadena es utilizado para ejecutar la siguiente."
   ]
  },
  {
   "cell_type": "code",
   "execution_count": null,
   "id": "21ea5c59-78b1-407c-a046-6fd3f7029ffb",
   "metadata": {},
   "outputs": [],
   "source": [
    "from langchain.chains.sequential import SimpleSequentialChain"
   ]
  },
  {
   "cell_type": "code",
   "execution_count": null,
   "id": "076dbfcd-4146-4ed4-9793-1f6bb0e6a286",
   "metadata": {},
   "outputs": [],
   "source": [
    "llm = ChatOpenAI(\n",
    "    model=\"llama3.2\",\n",
    "    base_url = 'http://localhost:11434/v1',\n",
    "    api_key='ollama', # required, but unused,\n",
    ")"
   ]
  },
  {
   "cell_type": "code",
   "execution_count": null,
   "id": "661f41bf-3efb-41c4-ba88-68d54f195198",
   "metadata": {},
   "outputs": [],
   "source": [
    "template = \"Dame un simple resumen con un listado de puntos para un post de un blog acerca de {tema}\"\n",
    "prompt1 = ChatPromptTemplate.from_template(template)\n",
    "chain_1 = LLMChain(llm=llm,prompt=prompt1)"
   ]
  },
  {
   "cell_type": "code",
   "execution_count": null,
   "id": "5e1d5c53-ec8f-43c9-bb7a-43447e797dcf",
   "metadata": {},
   "outputs": [],
   "source": [
    "template = \"Escribe un post completo usando este resumen: {resumen}\"\n",
    "prompt2 = ChatPromptTemplate.from_template(template)\n",
    "chain_2 = LLMChain(llm=llm,prompt=prompt2)"
   ]
  },
  {
   "cell_type": "code",
   "execution_count": null,
   "id": "3dcd14fa-30fc-42c2-adb9-e8ba121269dc",
   "metadata": {},
   "outputs": [],
   "source": [
    "full_chain = SimpleSequentialChain(chains=[chain_1,chain_2],\n",
    "                                  verbose=True) #verbose=True nos irá dando paso a paso lo que hace, pudiendo ver los resultados intermedios"
   ]
  },
  {
   "cell_type": "markdown",
   "id": "96bdb431-3ac7-44c7-bb44-dc5acad2ebd0",
   "metadata": {},
   "source": [
    "Ahora vamos a introducir como primer parámetro \"Inteligencia Artifical\", entonces en base a la primera cadena nos devolverá una serie de conceptos sobre esta materia y esta salida alimentará a la segunda cadena para obtener el resultado final "
   ]
  },
  {
   "cell_type": "code",
   "execution_count": null,
   "id": "49c7b93d-f7f3-40e2-aab2-adab604a74c9",
   "metadata": {},
   "outputs": [],
   "source": [
    "result = full_chain.invoke(input=\"Inteligencia Artificial\")"
   ]
  },
  {
   "cell_type": "code",
   "execution_count": null,
   "id": "8c8240b4-e408-4226-9e74-3d0877af1cd3",
   "metadata": {},
   "outputs": [],
   "source": [
    "print(result['output'])"
   ]
  },
  {
   "cell_type": "markdown",
   "id": "e2d5de38-4c13-43b9-9971-564dd712ac7e",
   "metadata": {},
   "source": [
    "## Construcción modelo secuencial completo.\n",
    "\n",
    "Este tipo de cadenas, son muy similares a las vistas en el anterior apartado, pero ofrecen la ventaja de que nos permiten tener acceso a todas las salidas del LLMChains internas. Para ver su funcionamiento, vamos a ver un caso de uso de rendimiento de empleados.\n",
    "\n",
    "Imaginemos que estamos en el departamento de recursos humanos y queremos hacer un plan de mejora para todas las funciones que tiene cada uno de los empleados de la empresa.\n",
    "Lo que tendremos de partida es una revisión del rendimiento del empleado y vamos a considerar un modelo secuencial completo. En el primer bloque de LLMcahin, se va a especializar en obtener un resumen a partir de la revisión que tenemos como entrada, el siguiente bloque va a estar especializado en detectar las debilidades a partir del resumen anterior y por último se nos va a proporcionar un plan de mejora basándose en las debilidades que se han detectado. Esto se hará para todos los empleados de la plantilla de una manera casi totalmente automática.\n",
    "\n",
    "El esquema de este proceso se muestra en la siguiente figura:\n",
    "![](fig/secuencialCompleto.PNG)\n",
    "\n",
    "Veamos cómo implementamos esto mediante código"
   ]
  },
  {
   "cell_type": "code",
   "execution_count": null,
   "id": "b0cbf6f7-5b66-41ac-a1ba-4072520387cf",
   "metadata": {},
   "outputs": [],
   "source": [
    "from langchain.prompts import PromptTemplate, SystemMessagePromptTemplate,ChatPromptTemplate, HumanMessagePromptTemplate\n",
    "from langchain_openai import ChatOpenAI\n",
    "from langchain.chains import SequentialChain, LLMChain #importamos el SequentialChain que es el modelo completo\n",
    "\n",
    "llm = ChatOpenAI(\n",
    "    model=\"llama3.2\",\n",
    "    base_url = 'http://localhost:11434/v1',\n",
    "    api_key='ollama', # required, but unused,\n",
    ")\n"
   ]
  },
  {
   "cell_type": "markdown",
   "id": "f87c633c-07eb-4a94-b8af-6f09f66fb7de",
   "metadata": {},
   "source": [
    "Creamos la primera cadena. El parámetro va a ser \"revision_rendimiento\". Establecemos un *output_key*, esto es importante proque así tenemos un acceso directo al resultado que obtenemos de esta cadena."
   ]
  },
  {
   "cell_type": "code",
   "execution_count": null,
   "id": "bfd8090a-8470-4df7-8f70-12e09f21018f",
   "metadata": {},
   "outputs": [],
   "source": [
    "template1 = \"Dame un resumen del rendimiento de este trabajador:\\n{revision_rendimiento}\"\n",
    "prompt1 = ChatPromptTemplate.from_template(template1)\n",
    "chain_1 = LLMChain(llm=llm,\n",
    "                     prompt=prompt1,\n",
    "                     output_key=\"resumen_revision\")\n",
    "\n",
    "#Opciones objetos runnables: chain_1= prompt1 | llm"
   ]
  },
  {
   "cell_type": "markdown",
   "id": "50ba053f-3517-4aea-8b87-25e2482bd93f",
   "metadata": {},
   "source": [
    "El *output_key* que aquí utilizamos va a ser utilizado como entrada de la siguiente cadena. Ahora creamos la segunda cadena (chain2). En este caso el parámetro que utilizamos en el template2, tiene que llamarse exactamente igual que como se ha denominado al *output_key* establecido en el paso anterior. En este segunda eslabón a la salida la llamamos *debilidades*."
   ]
  },
  {
   "cell_type": "code",
   "execution_count": null,
   "id": "896b8395-03e8-4827-b73d-edd81d8a81d5",
   "metadata": {},
   "outputs": [],
   "source": [
    "template2 = \"Identifica las debilidades de este trabajador dentro de de este resumen de la revisión:\\n{resumen_revision}\"\n",
    "prompt2 = ChatPromptTemplate.from_template(template2)\n",
    "chain_2 = LLMChain(llm=llm,\n",
    "                     prompt=prompt2,\n",
    "                     output_key=\"debilidades\")\n",
    "\n",
    "#Opciones objetos runnables: chain_2= prompt2 | llm"
   ]
  },
  {
   "cell_type": "markdown",
   "id": "e45445c7-4eee-43da-995b-27eea2ccc52a",
   "metadata": {},
   "source": [
    "Pasamos ahora al paso tres. Para el caso del parámetro de ete paso cabe decir lo mismo que se ha comentado anteriormente."
   ]
  },
  {
   "cell_type": "code",
   "execution_count": null,
   "id": "02d5a503-bec4-4eba-9703-3be4ff2af82c",
   "metadata": {},
   "outputs": [],
   "source": [
    "template3 = \"Crea un plan de mejora para ayudar en estas debilidades:\\n{debilidades}\"\n",
    "prompt3 = ChatPromptTemplate.from_template(template3)\n",
    "chain_3 = LLMChain(llm=llm,\n",
    "                     prompt=prompt3,\n",
    "                     output_key=\"plan_mejora\")\n",
    "\n",
    "#Opciones objetos runnables: chain_3= prompt3 | llm"
   ]
  },
  {
   "cell_type": "markdown",
   "id": "1bd11bf2-7357-4ca4-ac6e-a15dcc2636a0",
   "metadata": {},
   "source": [
    "Creamos ahora el secuentialchain."
   ]
  },
  {
   "cell_type": "code",
   "execution_count": null,
   "id": "ee445b97-4e9e-4150-9116-94a99607c76a",
   "metadata": {},
   "outputs": [],
   "source": [
    "seq_chain = SequentialChain(chains=[chain_1,chain_2,chain_3],\n",
    "                            input_variables=['revision_rendimiento'],\n",
    "                            output_variables=['resumen_revision','debilidades','plan_mejora'],\n",
    "                            verbose=True)"
   ]
  },
  {
   "cell_type": "markdown",
   "id": "d98eae8a-d937-40ce-9a2e-55ff922fdf52",
   "metadata": {},
   "source": [
    "Vamos a crear la variable de entrada, que para este ejemplo simplemente es una variable tipo carácter con un determinado valor. En la práctica esto puede ser una llamada a una base de datos interna o una base de datos vactorial."
   ]
  },
  {
   "cell_type": "code",
   "execution_count": null,
   "id": "5a3fe8dc-432c-4649-aee6-475c9a0b696c",
   "metadata": {},
   "outputs": [],
   "source": [
    "revision_rendimiento_empleado = '''\n",
    "Revisión de Rendimiento del Empleado\n",
    "\n",
    "Nombre del Empleado: Juan Pérez\n",
    "Posición: Analista de Datos\n",
    "Período Evaluado: Enero 2023 - Junio 2023\n",
    "\n",
    "Fortalezas:\n",
    "Juan ha demostrado un fuerte dominio de las herramientas analíticas y ha proporcionado informes detallados y precisos que han sido de gran ayuda para la toma de decisiones estratégicas. Su capacidad para trabajar en equipo y su disposición para ayudar a los demás también han sido notables. Además, ha mostrado una gran ética de trabajo y una actitud positiva en el entorno laboral.\n",
    "\n",
    "Debilidades:\n",
    "A pesar de sus muchas fortalezas, Juan ha mostrado áreas que necesitan mejoras. En particular, se ha observado que a veces tiene dificultades para manejar múltiples tareas simultáneamente, lo que resulta en retrasos en la entrega de proyectos. También ha habido ocasiones en las que la calidad del trabajo ha disminuido bajo presión. Además, se ha identificado una necesidad de mejorar sus habilidades de comunicación, especialmente en lo que respecta a la presentación de datos complejos de manera clara y concisa a los miembros no técnicos del equipo. Finalmente, se ha notado una falta de proactividad en la búsqueda de soluciones a problemas imprevistos, confiando a menudo en la orientación de sus superiores en lugar de tomar la iniciativa.\n",
    "'''"
   ]
  },
  {
   "cell_type": "code",
   "execution_count": null,
   "id": "3ae90ffa-90f9-44f7-a81b-9fcb08116a1a",
   "metadata": {},
   "outputs": [],
   "source": [
    "results = seq_chain.invoke(revision_rendimiento_empleado)"
   ]
  },
  {
   "cell_type": "code",
   "execution_count": null,
   "id": "9aaa29b0-6f29-4bae-a1a4-c7ba0144b631",
   "metadata": {},
   "outputs": [],
   "source": [
    "results #Tenemos un diccionario con todos los resultados intermedios y final"
   ]
  },
  {
   "cell_type": "code",
   "execution_count": null,
   "id": "345e6cab-a9d9-4dc7-a2d9-90b71f30b7fe",
   "metadata": {},
   "outputs": [],
   "source": [
    "#Resultado final\n",
    "print(results['plan_mejora'])"
   ]
  },
  {
   "cell_type": "markdown",
   "id": "2e3554c7-2b3d-454e-8014-b303ea97fc6a",
   "metadata": {},
   "source": [
    "También podemos tener los resultados de los pasos anteriores"
   ]
  },
  {
   "cell_type": "code",
   "execution_count": null,
   "id": "0cfa2663-d5ea-465f-8e11-b3b724a6f221",
   "metadata": {},
   "outputs": [],
   "source": [
    "#Se puede accceder a los resultados intermedios:\n",
    "print(results[\"debilidades\"])"
   ]
  },
  {
   "cell_type": "markdown",
   "id": "d0ea7c74-1323-4442-8cb3-cebd25aaea7a",
   "metadata": {},
   "source": [
    "## Enrutamiento a cadenas con LLMRouterChain.\n",
    "```{index} LLMRouterChain\n",
    "```\n",
    "\n",
    "LLMRouterChains puede recibir una entrada y redirigirla a la secuencia LLMChain más apropiada.\n",
    "\n",
    "El enrutador acepta múltiples LLMChains de destino potencial y luego, a través de un mensaje especializado, el enrutador leerá la entrada inicial y generará un diccionario específico que coincida con una de las posibles cadenas de destino para continuar con el procesamiento.\n",
    "\n",
    "![](fig/enrutador.PNG)\n",
    "\n",
    "Veamos el siguiente caso de uso"
   ]
  },
  {
   "cell_type": "code",
   "execution_count": null,
   "id": "2f8135c8-2f94-43c9-a87c-6d0e11232d91",
   "metadata": {},
   "outputs": [],
   "source": [
    "from langchain.prompts import PromptTemplate, SystemMessagePromptTemplate,ChatPromptTemplate, HumanMessagePromptTemplate\n",
    "from langchain_openai import ChatOpenAI\n",
    "from langchain.chains import SequentialChain, LLMChain #importamos el SequentialChain que es el modelo completo\n",
    "\n",
    "llm = ChatOpenAI(\n",
    "    model=\"llama3.2\",\n",
    "    base_url = 'http://localhost:11434/v1',\n",
    "    api_key='ollama', # required, but unused,\n",
    ")"
   ]
  },
  {
   "cell_type": "markdown",
   "id": "93907639-c085-4bee-b73f-025d8e8fa486",
   "metadata": {},
   "source": [
    "### Plantillas de enrutamiento\n",
    "\n",
    "Generamos dos plantillas de enrutamiento. La primera plantilla sería para un soporte básico a clientes de coches. La seguna plantilla sería para crear el perfil del mecánico.\n"
   ]
  },
  {
   "cell_type": "code",
   "execution_count": null,
   "id": "5327c063-a01f-4e37-b1ec-af68464e71ed",
   "metadata": {},
   "outputs": [],
   "source": [
    "#Template (prompt) para soporte básico a clientes de coches\n",
    "plantilla_soporte_basico_cliente = '''Eres una persona que asiste a los clientes de automóviles con preguntas básicas que pueden\n",
    "necesitar en su día a día y que explica los conceptos de una manera que sea simple de entender. Asume que no tienen conocimiento\n",
    "previo. Esta es la pregunta del usuario/n{input}'''"
   ]
  },
  {
   "cell_type": "code",
   "execution_count": null,
   "id": "c6521a57-e96f-47b8-816d-90a1d04b3b0e",
   "metadata": {},
   "outputs": [],
   "source": [
    "#Template (prompt) para soporte avanzados a nuestros expertos en mecánica\n",
    "plantilla_soporte_avanzado_mecánico = '''Eres un experto en mecánica que explicas consultas avanzadas a los mecánicos\n",
    "de la plantilla. Puedes asumir que cualquier que está preguntando tiene conocimientos avanzados de mecánica. \n",
    "Esta es la pregunta del usuario/n{input}'''"
   ]
  },
  {
   "cell_type": "markdown",
   "id": "2ec6e11b-8f64-423d-8a3b-7aeff1dafd0c",
   "metadata": {},
   "source": [
    "De manera similar, se podrían añadir tantas plantillas como necesitemos.\n",
    "\n",
    "Ahora creamos el enrutamiento de los prompts, que como podemos ver es una lista de diccionarios."
   ]
  },
  {
   "cell_type": "code",
   "execution_count": null,
   "id": "b87ff2f7-6f76-499f-8402-2bcc4adbc317",
   "metadata": {},
   "outputs": [],
   "source": [
    "#Debemos crear una lista de diccionarios, cada diccionario contiene su nombre, la descripción (en base a la cual el enrutador\n",
    "#hará su trabajo) y el prompt a usar en cada caso\n",
    "prompt_infos = [\n",
    "    {'name':'mecánica básica','description': 'Responde preguntas básicas de mecánicas a clientes',\n",
    "     'prompt_template':plantilla_soporte_basico_cliente},\n",
    "    {'name':'mecánica avanzada','description': 'Responde preguntas avanzadas de mecánica a expertos con conocimiento previo',\n",
    "     'prompt_template':plantilla_soporte_avanzado_mecánico},\n",
    "    \n",
    "]"
   ]
  },
  {
   "cell_type": "markdown",
   "id": "d8fc9f91-cf52-4740-87f9-8856ee6cf651",
   "metadata": {},
   "source": [
    "### Creación de ConversationChain."
   ]
  },
  {
   "cell_type": "code",
   "execution_count": null,
   "id": "9698b1a4-ab80-4bed-a664-d0b9614a853b",
   "metadata": {},
   "outputs": [],
   "source": [
    "from langchain.chains import LLMChain"
   ]
  },
  {
   "cell_type": "code",
   "execution_count": null,
   "id": "0008aed6-f0fa-402b-91cc-29203b0fd2d5",
   "metadata": {},
   "outputs": [],
   "source": [
    "#Creamos un diccionario de objetos LLMChain con las posibles cadenas destino\n",
    "destination_chains = {}\n",
    "for p_info in prompt_infos:\n",
    "    name = p_info[\"name\"]\n",
    "    prompt_template = p_info[\"prompt_template\"]\n",
    "    prompt = ChatPromptTemplate.from_template(template=prompt_template)\n",
    "    chain = LLMChain(llm=llm, prompt=prompt)\n",
    "    destination_chains[name] = chain"
   ]
  },
  {
   "cell_type": "code",
   "execution_count": null,
   "id": "06ed735f-cdaf-47bc-82b3-4188a7aad860",
   "metadata": {},
   "outputs": [],
   "source": [
    "#diccionario de bloques LLMChains\n",
    "destination_chains"
   ]
  },
  {
   "cell_type": "code",
   "execution_count": null,
   "id": "7d7c4054-9662-4891-a64e-0657fb86fd52",
   "metadata": {},
   "outputs": [],
   "source": [
    "#Creamos el prompt y cadena por defecto puesto que son argumento obligatorios que usaremos posteriormente\n",
    "default_prompt = ChatPromptTemplate.from_template(\"{input}\")\n",
    "default_chain = LLMChain(llm=llm,prompt=default_prompt)"
   ]
  },
  {
   "cell_type": "markdown",
   "id": "b5314d27-929d-4e18-9965-ad1c4ca82ca4",
   "metadata": {},
   "source": [
    "Creamos ahora el *Multi Routing Template*\n",
    "```{index} Multi Routing Template\n",
    "```"
   ]
  },
  {
   "cell_type": "code",
   "execution_count": null,
   "id": "065b47ed-0c98-412b-9810-0311338e945a",
   "metadata": {},
   "outputs": [],
   "source": [
    "#Importamos una plantilla que podremos formatear su parámetro {destinations} que tendrá cada nombre y descripción de la información de prompts\n",
    "from langchain.chains.router.multi_prompt_prompt import MULTI_PROMPT_ROUTER_TEMPLATE"
   ]
  },
  {
   "cell_type": "code",
   "execution_count": null,
   "id": "a121248f-bb22-41f3-8d51-786f640077a8",
   "metadata": {},
   "outputs": [],
   "source": [
    "print(MULTI_PROMPT_ROUTER_TEMPLATE) #El parámetro importante es {destinations}, debemos formatearlo en tipo string"
   ]
  },
  {
   "cell_type": "markdown",
   "id": "63101bc3-ae65-405c-9996-f83141d4c2c4",
   "metadata": {},
   "source": [
    "Vamos a establecer todos los posibles destinos del Routing."
   ]
  },
  {
   "cell_type": "code",
   "execution_count": null,
   "id": "2968ec9d-c70e-4e67-a35a-c5c7a74ab620",
   "metadata": {},
   "outputs": [],
   "source": [
    "#Creamos una string global con todos los destinos de routing usando el nombre y descripción de \"prompt_infos\"\n",
    "destinations = [f\"{p['name']}: {p['description']}\" for p in prompt_infos]\n",
    "destinations_str = \"\\n\".join(destinations)\n",
    "# Veamos el contenido de esta variable que contiene todos los posibles destinos\n",
    "destinations_str"
   ]
  },
  {
   "cell_type": "markdown",
   "id": "da03cc43-671c-4a7b-8a3b-0910a4c873da",
   "metadata": {},
   "source": [
    "### Router Prompt"
   ]
  },
  {
   "cell_type": "code",
   "execution_count": null,
   "id": "11aca348-015f-44fa-bd94-80d0fd28e196",
   "metadata": {},
   "outputs": [],
   "source": [
    "from langchain.chains.router.llm_router import LLMRouterChain,RouterOutputParser"
   ]
  },
  {
   "cell_type": "code",
   "execution_count": null,
   "id": "40cc2a91-e42d-4a94-84d2-5f8b7b8ecd3d",
   "metadata": {},
   "outputs": [],
   "source": [
    "router_chain = LLMRouterChain.from_llm(llm, router_prompt)\n",
    "\n",
    "\n",
    "router_template = MULTI_PROMPT_ROUTER_TEMPLATE.format(\n",
    "    destinations=destinations_str #Formateamos la plantilla con nuestros destinos en la string destinations_str\n",
    ")\n",
    "router_prompt = PromptTemplate(\n",
    "    template=router_template,\n",
    "    input_variables=[\"input\"],\n",
    "    output_parser=RouterOutputParser(), #Para transformar el objeto JSON parseándolo a una string\n",
    ")"
   ]
  },
  {
   "cell_type": "code",
   "execution_count": null,
   "id": "fb1fb78f-bc66-4144-8f9c-5a3676cde0ca",
   "metadata": {},
   "outputs": [],
   "source": [
    "print(router_template) #verificamos que se ha formateado correctamente"
   ]
  },
  {
   "cell_type": "markdown",
   "id": "79c30aad-6e8c-4082-bde5-c286f1679ed6",
   "metadata": {},
   "source": [
    "### Routing Chain Call"
   ]
  },
  {
   "cell_type": "code",
   "execution_count": null,
   "id": "73cb59e5-ffdc-4d4f-af7c-0cc7982495b2",
   "metadata": {},
   "outputs": [],
   "source": [
    "from langchain.chains.router import MultiPromptChain\n",
    "\n",
    "chain = MultiPromptChain(router_chain=router_chain, \n",
    "                         destination_chains=destination_chains, #El objeto con los posibles LLMChain que creamos al inicio\n",
    "                         default_chain=default_chain, verbose=True #Indicamos el LLMChain por defecto (obligatorio)\n",
    "                        )\n",
    "\n",
    "# Vemos que el enrutamiento es correcto y se va al apartado del mecánica básica\n",
    "chain.invoke(\"¿Cómo cambio el aceite de mi coche?\")"
   ]
  },
  {
   "cell_type": "code",
   "execution_count": null,
   "id": "c71a3e51-64f8-423f-8e5d-bf6c80d7b532",
   "metadata": {},
   "outputs": [],
   "source": [
    "# Vemos que el enrutamiento es correcto y se va al apartado del mecánico\n",
    "chain.invoke(\"¿Cómo funciona internamente un catalizador?\")"
   ]
  },
  {
   "cell_type": "markdown",
   "id": "d74266bb-d481-4c99-a7b5-fc607a2d6f98",
   "metadata": {},
   "source": [
    "## Cadenas de transformación.\n",
    "```{index} TransformChain\n",
    "```\n",
    "\n",
    "Las \" TransformChain \" se refieren a un tipo específico de cadena de transformación que se utiliza para modificar, manipular o transformar datos en el proceso de construcción de aplicaciones basadas en modelos de lenguaje.\n",
    "\n",
    "Diferentes ejemplo pueden ser los siguientes:\n",
    "\n",
    "* Normalización de texto: Limpiar y estandarizar el texto de entrada para asegurar consistencia.\n",
    "\n",
    "* Formateo: Cambiar el formato del texto para adaptarlo a necesidades específicas.\n",
    "\n",
    "* Filtrado: Eliminar información innecesaria o irrelevante.\n",
    "\n",
    "El caso de uso que vamos a implementar es un ejemplo de resumir y traducir.\n",
    "\n",
    "Vamos a obtener información de la wikipedia y lo vamos a meter en un modelo secuencial. Haremos los siguientes pasos:\n",
    "\n",
    "1.- Tomamos la información que nos llega de wikipedia y lo transformamos sin necesidad de llamar a ningún LLM, con el consiguiente ahorro de costes.\n",
    "\n",
    "2.- Implementamos una cadena LLM que va a resumir lo del paso anterior.\n",
    "\n",
    "3.- Por ultimo vamos a traducir el texto.\n",
    "\n",
    "Veamos cómo implementar todo esto. "
   ]
  },
  {
   "cell_type": "code",
   "execution_count": null,
   "id": "f7e61821-5488-45d9-9e9b-59d3c12d1fcd",
   "metadata": {},
   "outputs": [],
   "source": [
    "from langchain.prompts import PromptTemplate, SystemMessagePromptTemplate,ChatPromptTemplate, HumanMessagePromptTemplate\n",
    "from langchain_openai import ChatOpenAI\n",
    "from langchain.chains import SimpleSequentialChain, LLMChain,TransformChain\n",
    "\n"
   ]
  },
  {
   "cell_type": "code",
   "execution_count": null,
   "id": "d989307b-8e5b-46d4-a724-8cb2640efc1b",
   "metadata": {},
   "outputs": [],
   "source": [
    "llm = ChatOpenAI(\n",
    "    model=\"llama3.2\",\n",
    "    base_url = 'http://localhost:11434/v1',\n",
    "    api_key='ollama', # required, but unused,\n",
    ")"
   ]
  },
  {
   "cell_type": "code",
   "execution_count": null,
   "id": "05260482-e8bb-4ec5-aed4-4d7ab16b1e19",
   "metadata": {},
   "outputs": [],
   "source": [
    "# importamos los documentos\n",
    "from langchain.document_loaders import WikipediaLoader\n",
    "consulta_wikipedia = \"atlético de Madrid\"\n",
    "idioma_final = \"francés\""
   ]
  },
  {
   "cell_type": "code",
   "execution_count": null,
   "id": "f38061c5-43ce-4d5a-8a7e-3ed035bc6211",
   "metadata": {},
   "outputs": [],
   "source": [
    "loader = WikipediaLoader(query=consulta_wikipedia,lang=\"es\",load_max_docs=10)\n",
    "data = loader.load()\n",
    "data[0].page_content"
   ]
  },
  {
   "cell_type": "code",
   "execution_count": null,
   "id": "254ae3fa-514f-4a01-a741-4ca36b5c0201",
   "metadata": {},
   "outputs": [],
   "source": [
    "texto_entrada = data[0].page_content"
   ]
  },
  {
   "cell_type": "markdown",
   "id": "9063bbe1-98a1-457d-8bc3-01e9a205df09",
   "metadata": {},
   "source": [
    "Defino la función de transformación personalizada"
   ]
  },
  {
   "cell_type": "code",
   "execution_count": null,
   "id": "b2c86533-7d29-4553-9552-2e3a739ff634",
   "metadata": {},
   "outputs": [],
   "source": [
    "def transformer_function(inputs: dict) -> dict: #Toma de entrada un diccionario y lo devuelve con la transformación oportuna\n",
    "    texto = inputs['texto']\n",
    "    primer_parrafo = texto.split('\\n')[0]\n",
    "    return {'salida':primer_parrafo}"
   ]
  },
  {
   "cell_type": "code",
   "execution_count": null,
   "id": "df045df2-ae91-48dd-af00-e05df6eef0a8",
   "metadata": {},
   "outputs": [],
   "source": [
    "transform_chain = TransformChain(input_variables=['texto'],\n",
    "                                 output_variables=['salida'],\n",
    "                                 transform=transformer_function)"
   ]
  },
  {
   "cell_type": "code",
   "execution_count": null,
   "id": "4c18d04e-b801-4512-b797-555161d1922b",
   "metadata": {},
   "outputs": [],
   "source": [
    "#Definimos la cadena secuencial\n",
    "#Creamos bloque LLMChain para resumir\n",
    "template1 = \"Crea un resumen en una línea del siguiente texto:\\n{texto}\"\n",
    "prompt = ChatPromptTemplate.from_template(template1)\n",
    "summary_chain = LLMChain(llm=llm,\n",
    "                     prompt=prompt,\n",
    "                     output_key=\"texto_resumen\")"
   ]
  },
  {
   "cell_type": "code",
   "execution_count": null,
   "id": "8e56aedb-698d-49ae-8c4b-2ccb87f723dc",
   "metadata": {},
   "outputs": [],
   "source": [
    "#Creamos bloque LLMChain para traducir\n",
    "template2 = \"Traduce a\"+ idioma_final + \"el siguiente texto:\\n{texto}\"\n",
    "prompt = ChatPromptTemplate.from_template(template2)\n",
    "#prompt.format_prompt(idioma=idioma_final)\n",
    "translate_chain = LLMChain(llm=llm,\n",
    "                     prompt=prompt,\n",
    "                     output_key=\"texto_traducido\")"
   ]
  },
  {
   "cell_type": "code",
   "execution_count": null,
   "id": "984540a8-c03a-4bfd-8a1b-ee8a276797c0",
   "metadata": {},
   "outputs": [],
   "source": [
    "sequential_chain = SimpleSequentialChain(chains=[transform_chain,summary_chain,translate_chain],\n",
    "                                        verbose=True)"
   ]
  },
  {
   "cell_type": "code",
   "execution_count": null,
   "id": "42d19499-a8e6-4cb3-a574-6e7f6044b556",
   "metadata": {},
   "outputs": [],
   "source": [
    "result = sequential_chain(texto_entrada)"
   ]
  },
  {
   "cell_type": "markdown",
   "id": "160dbe9f-0165-4879-8062-cd297913ec52",
   "metadata": {},
   "source": [
    "## Cadenas sobre preguntas y respuestas de los datos.\n",
    "```{index} Retrieval Augmented Generation RAG, RAG\n",
    "```\n",
    "\n",
    "La cadena “load_qa_chain” se utiliza para cargar y configurar una cadena de preguntas y respuestas (Q&A) A). Esta cadena puede combinar múltiples componentes de procesamiento de lenguaje natural para responder preguntas basadas en un contexto específico sin tener que hacerlo manualmente.\n",
    "\n",
    "La clave es que proporciona una respuesta directa y coherente de la pregunta realizada a partir de nuestra base de datos de vectores en lugar de únicamente devolver el vector de mayor similitud.\n",
    "\n",
    "Muy común usarla cuando estamos creando un Retrieval Augmented Generation RAG (Generación Aumentada por Recuperación) para obtener información y respuestas basadas en nuestra propia base de datos de vectores.\n",
    "\n",
    "El planteamiento es el siguiente:\n",
    "\n",
    "Tenemos una base de datos vectorial y una pregunta del usuario que va a generar una respuesta, esta respuesta se inserta en la cadena QA_Chain para encadenar esa respuesta con el LLM y así obtener una respuesta coherente.\n",
    "\n",
    "Veamos un ejemplo, primero importamos y generamos el LLM"
   ]
  },
  {
   "cell_type": "code",
   "execution_count": null,
   "id": "1eaf1b65-dec1-44fe-a8d3-f764cb43329f",
   "metadata": {},
   "outputs": [],
   "source": [
    "from langchain.prompts import PromptTemplate, SystemMessagePromptTemplate,ChatPromptTemplate, HumanMessagePromptTemplate\n",
    "from langchain_openai import ChatOpenAI\n",
    "from langchain.chains import SimpleSequentialChain, LLMChain,TransformChain"
   ]
  },
  {
   "cell_type": "code",
   "execution_count": null,
   "id": "032330f6-b01c-485c-a7b5-59740e8c9bcf",
   "metadata": {},
   "outputs": [],
   "source": [
    "llm = ChatOpenAI(\n",
    "    model=\"llama3.2\",\n",
    "    base_url = 'http://localhost:11434/v1',\n",
    "    api_key='ollama', # required, but unused,\n",
    ")"
   ]
  },
  {
   "cell_type": "markdown",
   "id": "1a5d351b-d0a7-4d82-91f6-386da68126dd",
   "metadata": {},
   "source": [
    "Conectamos a una base de datos creada en uno de los apartados anteriores y [que se puede ver en este enlace](almacenamiento)."
   ]
  },
  {
   "cell_type": "code",
   "execution_count": null,
   "id": "ca05559b-16de-4032-8a8d-e10b6394db2e",
   "metadata": {},
   "outputs": [],
   "source": [
    "# conectamos a una base de datos creda en uno de los apartados anteriores\n",
    "from langchain.embeddings.openai import OpenAIEmbeddings\n",
    "from langchain_community.vectorstores import SKLearnVectorStore\n",
    "\n",
    "from langchain_ollama import OllamaEmbeddings\n",
    "\n",
    "embedding_function = OllamaEmbeddings(\n",
    "    model=\"llama3.2\",\n",
    ")"
   ]
  },
  {
   "cell_type": "code",
   "execution_count": null,
   "id": "c15e9cf9-929c-4a2f-8e09-d64bc394ba16",
   "metadata": {},
   "outputs": [],
   "source": [
    "vector_store_connection = SKLearnVectorStore(embedding=embedding_function, persist_path=\"./BD/ejemplosk_embedding_db\", serializer=\"parquet\")"
   ]
  },
  {
   "cell_type": "code",
   "execution_count": null,
   "id": "d8f83086-a1ee-4a85-a221-0d1b8f24b89b",
   "metadata": {},
   "outputs": [],
   "source": [
    "#Cargamos cadena QA\n",
    "from langchain.chains.question_answering import load_qa_chain\n",
    "from langchain.chains.qa_with_sources import load_qa_with_sources_chain #Opción que proporciona también la fuente de datos de la respuesta"
   ]
  },
  {
   "cell_type": "code",
   "execution_count": null,
   "id": "beaee02b-eb9c-4316-8c9b-8fc60194bd1b",
   "metadata": {},
   "outputs": [],
   "source": [
    "chain = load_qa_chain(llm,chain_type='stuff') #chain_type='stuff' se usa cuando se desea una manera simple y directa de cargar y procesar el contenido completo sin dividirlo en fragmentos más pequeños. Es ideal para situaciones donde el volumen de datos no es demasiado grande y se puede manejar de manera eficiente por el modelo de lenguaje en una sola operación."
   ]
  },
  {
   "cell_type": "code",
   "execution_count": null,
   "id": "39883ec8-b2ec-4fb9-909f-6df8f2d88629",
   "metadata": {},
   "outputs": [],
   "source": [
    "question = \"¿Qué pasó en el siglo de Oro español?\"\n",
    "# Obtengo los párrafos que se adaptan a la pregunta\n",
    "docs = vector_store_connection.similarity_search(question)\n",
    "chain.run(input_documents=docs,question=question)"
   ]
  },
  {
   "cell_type": "markdown",
   "id": "da9c8d27-bd9d-4cfc-83fe-ab447fcfd6e3",
   "metadata": {},
   "source": [
    "## alternativa con el método invoque.\n"
   ]
  },
  {
   "cell_type": "code",
   "execution_count": null,
   "id": "2f9bb9a9-0c58-49f5-812d-77fb2db1a7fb",
   "metadata": {},
   "outputs": [],
   "source": [
    "#Estructurar un diccionario con los parámetros de entrada\n",
    "inputs = {\n",
    "    \"input_documents\": docs,\n",
    "    \"question\": question\n",
    "}\n",
    "\n",
    "chain.invoke(inputs)[\"output_text\"]"
   ]
  },
  {
   "cell_type": "code",
   "execution_count": null,
   "id": "137d6437-8234-4b0f-a7a4-2e87af8c984a",
   "metadata": {},
   "outputs": [],
   "source": []
  }
 ],
 "metadata": {
  "kernelspec": {
   "display_name": "Python 3 (ipykernel)",
   "language": "python",
   "name": "python3"
  },
  "language_info": {
   "codemirror_mode": {
    "name": "ipython",
    "version": 3
   },
   "file_extension": ".py",
   "mimetype": "text/x-python",
   "name": "python",
   "nbconvert_exporter": "python",
   "pygments_lexer": "ipython3",
   "version": "3.11.4"
  }
 },
 "nbformat": 4,
 "nbformat_minor": 5
}
