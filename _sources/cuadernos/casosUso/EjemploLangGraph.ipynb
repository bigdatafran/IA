{
 "cells": [
  {
   "cell_type": "markdown",
   "id": "0f14592f-97c5-406a-94ef-339d6dd9e203",
   "metadata": {},
   "source": [
    "# Introducción ejemplo de LangGraph.\n",
    "```{index} LangGraph, LangSmith,Anthropic\n",
    "```\n",
    "LangGraph es una biblioteca del ecosistema LangChain que proporciona un marco para definir, coordinar y ejecutar múltiples agentes LLM (o cadenas) de forma estructurada y eficiente.\n",
    "\n",
    "Imagina que estás construyendo una aplicación compleja y multiagente de modelos lingüísticos extensos (LLM). Es emocionante, pero conlleva retos: gestionar el estado de varios agentes, coordinar sus interacciones y manejar los errores con eficacia. Aquí es donde LangGraph puede ayudarte.\n",
    "\n",
    "LangGraph es una biblioteca del ecosistema LangChain diseñada para hacer frente a estos retos. LangGraph proporciona un marco para definir, coordinar y ejecutar múltiples agentes LLM (o cadenas) de forma estructurada.\n",
    "\n",
    "Simplifica el proceso de desarrollo al permitir la creación de gráficos cíclicos, que son esenciales para desarrollar tiempos de ejecución de agentes. Con LangGraph, podemos construir fácilmente sistemas multiagente robustos, escalables y flexibles.\n",
    "\n",
    "Una introducción a todo el sistema de LangChain lo podemos encontrar <a href=\"https://www.datacamp.com/es/tutorial/introduction-to-langchain-for-data-engineering-and-data-applications\" target=_blank\"> en este enlace </a>.\n",
    "\n",
    " En LangGraph, cada nodo representa un agente LLM, y las aristas son los canales de comunicación entre estos agentes. Esta estructura permite flujos de trabajo claros y manejables, en los que cada agente realiza tareas específicas y pasa información a otros agentes según sea necesario.\n",
    "\n",
    "Una de las características más destacadas de LangGraph es su gestión automática de estados. Esta función nos permite rastrear y persistir en la información a través de múltiples interacciones. A medida que los agentes realizan sus tareas, el estado se actualiza dinámicamente, asegurando que el sistema mantiene el contexto y responde adecuadamente a las nuevas entradas.\n",
    "\n",
    "LangGraph garantiza que los agentes se ejecuten en el orden correcto y que la información necesaria se intercambie sin problemas. Esta coordinación es vital para aplicaciones complejas en las que varios agentes deben trabajar juntos para lograr un objetivo común. Al gestionar el flujo de datos y la secuencia de operaciones, LangGraph permite a los desarrolladores centrarse en la lógica de alto nivel de sus aplicaciones, en lugar de en las complejidades de la coordinación de agentes.\n",
    "\n",
    "Este apartado está basado en el contenido <a href=\"https://langchain-ai.github.io/langgraph/tutorials/introduction/\" target=\"_blank\"> de esta página web </a> (se recomienda también <a href=\"https://www.datacamp.com/es/tutorial/langgraph-tutorial\"  target=\"_blank\"> mirar este otro enlace </a>), aunque se irá complementando con más información muy valiosa sobre el asunto que estamos tratando en este apartado. y lo que vammos a ver es cómo podemos crear un chatbot de soporte en LangGraph, con el cual se va a poder:\n",
    "\n",
    "* Responder a preguntas comunes buscando en la web\n",
    "\n",
    "* Mantener el estado dela conversación en todas las llamadas\n",
    "\n",
    "* Dirigir en consultas complejas\n",
    "\n",
    "* Usar un estado personalizado\n",
    "\n",
    "Lo primero que vamos a crear es un chatbot básico y poco a poco se irán añadiendo funciones más sofisticadas.\n",
    "\n",
    "Primero vamos a configurar el entorno"
   ]
  },
  {
   "cell_type": "code",
   "execution_count": 1,
   "id": "b4d0ac9d-6a97-46f6-b945-8675c76e0136",
   "metadata": {},
   "outputs": [
    {
     "name": "stdin",
     "output_type": "stream",
     "text": [
      "ANTHROPIC_API_KEY:  ········\n"
     ]
    }
   ],
   "source": [
    "import getpass\n",
    "import os\n",
    "\n",
    "\n",
    "def _set_env(var: str):\n",
    "    if not os.environ.get(var):\n",
    "        os.environ[var] = getpass.getpass(f\"{var}: \")\n",
    "\n",
    "\n",
    "_set_env(\"ANTHROPIC_API_KEY\")"
   ]
  },
  {
   "cell_type": "code",
   "execution_count": 4,
   "id": "82c38609-cfac-4488-9488-764a73188cd9",
   "metadata": {},
   "outputs": [],
   "source": [
    "#!pip install -U langgraph langsmith langchain_anthropic"
   ]
  },
  {
   "cell_type": "markdown",
   "id": "205c6c56-e640-4c1a-a666-44b11ccbc92c",
   "metadata": {},
   "source": [
    "Primero crearemos un chatbot sencillo con LangGraph. Este chatbot responderá directamente a los mensajes de los usuarios. Aunque simple, ilustrará los conceptos básicos de desarrollo con LangGraph. Al final de esta sección, habrás creado un chatbot básico.\n",
    "\n",
    "```{index} StateGraph,Nodos\n",
    "```\n",
    "\n",
    "En una aplicación de LangGraph, lo primero que debemos hacer es definir el *StateGraph*. Con este paso, vamos a estructurar el chatbot como una máquina de estados.  El State es un objeto de clase definido con una sola clave messages de tipo List y utiliza la función add_messages() para añadir nuevos mensajes en lugar de sobrescribirlos."
   ]
  },
  {
   "cell_type": "code",
   "execution_count": 6,
   "id": "c63c9294-32bc-44ff-85c2-834e0e95dda4",
   "metadata": {},
   "outputs": [],
   "source": [
    "from typing import Annotated\n",
    "\n",
    "from typing_extensions import TypedDict\n",
    "\n",
    "from langgraph.graph import StateGraph, START, END\n",
    "from langgraph.graph.message import add_messages\n",
    "\n",
    "\n",
    "class State(TypedDict):\n",
    "    # Messages tienen el tipo \"list\". The `add_messages` function\n",
    "    # in the annotation defines how this state key should be updated\n",
    "    # (in this case, it appends messages to the list, rather than overwriting them)\n",
    "    messages: Annotated[list, add_messages]\n",
    "\n",
    "\n",
    "graph_builder = StateGraph(State)"
   ]
  },
  {
   "cell_type": "markdown",
   "id": "fb5ff886-e075-48d7-86e9-98ab7785524a",
   "metadata": {},
   "source": [
    "El gráfico creado ahora puede manejar dos tareas claves\n",
    "\n",
    "1.- Cada uno de los nodos puede recibir la corriente *State* como entrada y emitir una actualización del estado.\n",
    "\n",
    "2.- Las actualizaciones *messages* se agregarán a la lista existente en lugar de sobreescribirla, gracias a la función *add_messages* preconstruida con la sintaxis *Annotated*.\n",
    "\n",
    "**Nodos**: Los nodos representan unidades de trabajo dentro de tu LangGraph. Suelen ser funciones de Python que realizan una tarea específica, como por ejemplo:\n",
    "\n",
    "*  Interactuar con un LLM\n",
    "* Llamar a una herramienta o API\n",
    "* Realizar alguna manipulación de datos\n",
    "* Recibir la información del usuario\n",
    "* Ejecutar la lógica empresarial\n",
    "* \n",
    "En LangGraph, puedes añadir nodos utilizando la sintaxis graph.add_node(name, value).\n",
    "\n",
    "A continuación se agrega un nodo *chatbot*, estos nodos representan unidades de trabajo."
   ]
  },
  {
   "cell_type": "code",
   "execution_count": 7,
   "id": "a5fa5e12-1655-4914-b929-b7b78b52c6d7",
   "metadata": {},
   "outputs": [
    {
     "data": {
      "text/plain": [
       "<langgraph.graph.state.StateGraph at 0x20b2d507c90>"
      ]
     },
     "execution_count": 7,
     "metadata": {},
     "output_type": "execute_result"
    }
   ],
   "source": [
    "from langchain_anthropic import ChatAnthropic\n",
    "\n",
    "llm = ChatAnthropic(model=\"claude-3-5-sonnet-20240620\")\n",
    "\n",
    "\n",
    "def chatbot(state: State):\n",
    "    return {\"messages\": [llm.invoke(state[\"messages\"])]}\n",
    "\n",
    "\n",
    "# The first argument is the unique node name\n",
    "# The second argument is the function or object that will be called whenever\n",
    "# the node is used.\n",
    "graph_builder.add_node(\"chatbot\", chatbot)"
   ]
  },
  {
   "cell_type": "markdown",
   "id": "3d5557e8-6f94-4bb8-accf-f91ba012e2c5",
   "metadata": {},
   "source": [
    "En la función anterior (*chatbot*), que es una función de nodo, toma como entrada la corriente *State* y devuelve un diccionario con una lista actualizada de *messages*. Este es el patrón básico de actuación de todas las funciones nodo de LangGraph.\n",
    "\n",
    "**Bordes**: Las aristas son canales de comunicación entre nodos. Definen el flujo de información y el orden de ejecución. Puedes añadir aristas utilizando la sintaxis graph.add_edge(node1, node2).\n",
    "\n",
    "**Estado**: El estado es un objeto central actualizado en el tiempo por los nodos del grafo. Gestiona el estado interno de tu aplicación y puede anularse o añadirse, según los requisitos de la aplicación. Este estado puede contener cosas como:\n",
    "\n",
    "\n",
    "* **Historia de la conversación**: Una lista de mensajes entre el agente y el usuario.\n",
    "* **Datos contextuales**: Información relevante para la tarea o interacción actual.\n",
    "*  **Variables internas**: Indicadores, contadores u otras variables para seguir el progreso y el comportamiento del agente\n",
    "\n"
   ]
  },
  {
   "cell_type": "code",
   "execution_count": 8,
   "id": "aaf7801b-601a-45a0-81ba-d9e0bc9c622d",
   "metadata": {},
   "outputs": [],
   "source": [
    "# Añadimos un punto de entrada. Indica donde empezar a trabajar\n",
    "graph_builder.add_edge(START, \"chatbot\")\n",
    "# Añadimos un punto de final\n",
    "graph_builder.add_edge(\"chatbot\", END)\n",
    "# Ejecutamos el el grafo\n",
    "graph = graph_builder.compile()\n"
   ]
  },
  {
   "cell_type": "markdown",
   "id": "e522e58b-e717-4cff-9f21-1191a470e036",
   "metadata": {},
   "source": [
    "Se puede visualizar el gráfico usando el método *get_graph* y uno de los métodos de dibujo, como *draw_ascii* o *draw_png*."
   ]
  },
  {
   "cell_type": "code",
   "execution_count": 9,
   "id": "87ea5d64-9d88-4856-8ebb-cf092b8bf89c",
   "metadata": {},
   "outputs": [
    {
     "data": {
      "image/png": "[encoded data removed]",
      "text/plain": [
       "<IPython.core.display.Image object>"
      ]
     },
     "metadata": {},
     "output_type": "display_data"
    }
   ],
   "source": [
    "from IPython.display import Image, display\n",
    "\n",
    "try:\n",
    "    display(Image(graph.get_graph().draw_mermaid_png()))\n",
    "except Exception:\n",
    "    # This requires some extra dependencies and is optional\n",
    "    pass"
   ]
  },
  {
   "cell_type": "markdown",
   "id": "1bf24c4d-3c11-495a-9ac4-dfc73599815b",
   "metadata": {},
   "source": [
    "Por último ejecutamos el chatbot, para ello implementamos un bucle para pedir continuamente la entrada al usuario, procesarla a través del gráfico e imprimir la respuesta del asistente. El bucle sale cuando el usuario escribe \"quit\", \"exit\", o \"q\"."
   ]
  },
  {
   "cell_type": "code",
   "execution_count": 7,
   "id": "4bf221c0-fd01-4a37-9245-bbfca23f5a2d",
   "metadata": {},
   "outputs": [
    {
     "name": "stdin",
     "output_type": "stream",
     "text": [
      "User:  quit\n"
     ]
    },
    {
     "name": "stdout",
     "output_type": "stream",
     "text": [
      "Goodbye!\n"
     ]
    }
   ],
   "source": [
    "def stream_graph_updates(user_input: str):\n",
    "    for event in graph.stream({\"messages\": [{\"role\": \"user\", \"content\": user_input}]}):\n",
    "        for value in event.values():\n",
    "            print(\"Assistant:\", value[\"messages\"][-1].content)\n",
    "\n",
    "\n",
    "while True:\n",
    "    try:\n",
    "        user_input = input(\"User: \")\n",
    "        if user_input.lower() in [\"quit\", \"exit\", \"q\"]:\n",
    "            print(\"Goodbye!\")\n",
    "            break\n",
    "        stream_graph_updates(user_input)\n",
    "    except:\n",
    "        # fallback if input() is not available\n",
    "        user_input = \"What do you know about LangGraph?\"\n",
    "        print(\"User: \" + user_input)\n",
    "        stream_graph_updates(user_input)\n",
    "        break"
   ]
  },
  {
   "cell_type": "code",
   "execution_count": null,
   "id": "ba64d6ce-63df-4738-bd8e-d7caf3dc0d40",
   "metadata": {},
   "outputs": [],
   "source": []
  }
 ],
 "metadata": {
  "kernelspec": {
   "display_name": "Python 3 (ipykernel)",
   "language": "python",
   "name": "python3"
  },
  "language_info": {
   "codemirror_mode": {
    "name": "ipython",
    "version": 3
   },
   "file_extension": ".py",
   "mimetype": "text/x-python",
   "name": "python",
   "nbconvert_exporter": "python",
   "pygments_lexer": "ipython3",
   "version": "3.11.4"
  }
 },
 "nbformat": 4,
 "nbformat_minor": 5
}
