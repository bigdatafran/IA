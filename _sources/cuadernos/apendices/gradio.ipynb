{
 "cells": [
  {
   "cell_type": "markdown",
   "id": "48c0cd7a-7104-4134-bf82-8fe92accd91d",
   "metadata": {},
   "source": [
    "# Introducción a gradio.\n",
    "```{index} Entry gradio\n",
    "```\n",
    "En el emocionante mundo de la inteligencia artificial, desarrollar aplicaciones que interactúen de manera efectiva con los usuarios es crucial. Gradio se destaca como una herramienta revolucionaria que simplifica la creación de interfaces de usuario intuitivas y atractivas para modelos de aprendizaje automático. Con Gradio, puedes llevar tus proyectos de IA al siguiente nivel, permitiendo a tus usuarios interactuar con tus modelos de manera sencilla y visual. Ya sea que estés trabajando en reconocimiento de imágenes, procesamiento de lenguaje natural o cualquier otro campo de la IA, Gradio te brinda la flexibilidad y la potencia necesarias para crear experiencias de usuario excepcionales. ¡Descubre cómo Gradio puede transformar tus aplicaciones de IA y llevarlas al siguiente nivel!\n",
    "\n",
    "Una de las ventajas clave de Gradio es su capacidad para permitir a los desarrolladores crear interfaces de usuario personalizadas y adaptadas a sus necesidades específicas. Con una variedad de componentes y herramientas disponibles, puedes diseñar interfaces que se ajusten perfectamente a tus objetivos y requisitos. Además, Gradio se integra perfectamente con populares frameworks de aprendizaje automático como PyTorch y TensorFlow, lo que te permite aprovechar al máximo tus modelos y llevar tus aplicaciones de IA a la vida real de manera rápida y eficiente.\n",
    "\n",
    "En este apartado se van a mostrar los elementos más básicos de gradio, para que el lectorpueda tomar el impulso necesario y que después pueda ir ampliando conocimientos de forma autónoma, y para ello lo que se hace es en el apéndice de este tema, incluir algunos enlaces que pueden ser muy útiles para poder adquirir y ampliar este tipo de conocimientos.\n",
    "\n",
    "Comencemos por decir que como siempre en python, lo primero que hay que hacer es instalarse la librería que nos permita trabajar con este paquete. Para ello debemos ejecutar el siguiente comando:\n",
    "\n",
    "``` python\n",
    "pip install gradio\n",
    "```"
   ]
  },
  {
   "cell_type": "code",
   "execution_count": 1,
   "id": "7fe6a090-84ea-4dd7-9a88-3d25ff11c248",
   "metadata": {},
   "outputs": [],
   "source": [
    "#!pip install gradio"
   ]
  },
  {
   "cell_type": "markdown",
   "id": "358901dc-69b8-419a-b9f1-1a71dfd961b0",
   "metadata": {},
   "source": [
    "Para entrando e materia, lo primero es mostrar un sencillo ejemplo, de tipo ¡¡¡Hola mundo!!! para que se pueda ir apreciando la sencillez de gradio a la hora mostrar contenidos. Vayamos a eso y ejecutemos el código siguiente que después se explicará lo que hace"
   ]
  },
  {
   "cell_type": "code",
   "execution_count": 2,
   "id": "bb47eaa8-55c0-4741-9b23-2e5f5baa3cef",
   "metadata": {},
   "outputs": [
    {
     "name": "stderr",
     "output_type": "stream",
     "text": [
      "D:\\MisTrabajos\\IA_generativa\\venv\\Lib\\site-packages\\tqdm\\auto.py:21: TqdmWarning: IProgress not found. Please update jupyter and ipywidgets. See https://ipywidgets.readthedocs.io/en/stable/user_install.html\n",
      "  from .autonotebook import tqdm as notebook_tqdm\n"
     ]
    },
    {
     "name": "stdout",
     "output_type": "stream",
     "text": [
      "* Running on local URL:  http://127.0.0.1:7860\n",
      "\n",
      "To create a public link, set `share=True` in `launch()`.\n"
     ]
    },
    {
     "data": {
      "text/html": [
       "<div><iframe src=\"http://127.0.0.1:7860/\" width=\"100%\" height=\"500\" allow=\"autoplay; camera; microphone; clipboard-read; clipboard-write;\" frameborder=\"0\" allowfullscreen></iframe></div>"
      ],
      "text/plain": [
       "<IPython.core.display.HTML object>"
      ]
     },
     "metadata": {},
     "output_type": "display_data"
    },
    {
     "data": {
      "text/plain": []
     },
     "execution_count": 2,
     "metadata": {},
     "output_type": "execute_result"
    }
   ],
   "source": [
    "import gradio as gr\n",
    "\n",
    "def greet(name, intensity):\n",
    "    return \"Buenas, \" + name + \"!\" * int(intensity)\n",
    "\n",
    "demo = gr.Interface(\n",
    "    fn=greet,\n",
    "    inputs=[\"text\", \"slider\"],\n",
    "    outputs=[\"text\"],\n",
    ")\n",
    "\n",
    "demo.launch()\n"
   ]
  },
  {
   "cell_type": "markdown",
   "id": "1a438083-630c-4ac2-b0a8-e50a4488631d",
   "metadata": {},
   "source": [
    "Como puede verse de una forma bien simple y con muy pocos líneas de código, obtenemos un resultado muy positivo. A continuación se procede a explicar lo que hace cada línea del código.\n",
    "\n",
    "Lo primero que se hace es definir un función que toma como entradas el/los valores que se le mandan desde la sección que se va a indicar posteriormente, y devuelve el valor que se va a mostrar en el output de la interfac que a continuación se pasa a explicar.\n",
    "\n",
    "En la línea 6 es donde <a href=\"https://www.gradio.app/docs/gradio/interface\" target='_blank'> se define la interface </a>, la cual es uno de los elementos más importantes de gradio, con la cual se puede crear una GUI/demo basada en un determinad modelo de aprendizaje automático (o cualquier otro tipo de código Python) con pocas líneas de código.\n",
    "\n",
    "En esta interface se deben al menos los siguientes parámetros:\n",
    "\n",
    "* **fn**. Es la función a la que se llama y que nos devuelve los valores que se mostrarán después en el output.\n",
    "*  **inputs**. Son los componentes de entrada que necesitemos.\n",
    "*  **outputs**. Son los componentes de salida deseados.\n",
    "\n",
    "Tan sólo con este simple conocimiento, ya se puede definir una página web donde podemos interactuar con el modelo. Hay que tener en cuenta que además de esos tres parámetros, esta interface cuenta con muchos más parámetros con los cuales podemos mejorar las presentaciones. Para mostrar esto, vamos a modificar ligeramente el ejemplo anterior, para mejorar la presentación.  "
   ]
  },
  {
   "cell_type": "code",
   "execution_count": 3,
   "id": "ce30e907-3a34-426d-9405-fa588624daa9",
   "metadata": {},
   "outputs": [
    {
     "name": "stdout",
     "output_type": "stream",
     "text": [
      "* Running on local URL:  http://127.0.0.1:7861\n",
      "\n",
      "To create a public link, set `share=True` in `launch()`.\n"
     ]
    },
    {
     "data": {
      "text/html": [
       "<div><iframe src=\"http://127.0.0.1:7861/\" width=\"100%\" height=\"500\" allow=\"autoplay; camera; microphone; clipboard-read; clipboard-write;\" frameborder=\"0\" allowfullscreen></iframe></div>"
      ],
      "text/plain": [
       "<IPython.core.display.HTML object>"
      ]
     },
     "metadata": {},
     "output_type": "display_data"
    },
    {
     "data": {
      "text/plain": []
     },
     "execution_count": 3,
     "metadata": {},
     "output_type": "execute_result"
    }
   ],
   "source": [
    "import gradio as gr\n",
    "\n",
    "def greet(name, intensity):\n",
    "    return \"Buenas, \" + name + \"!\" * int(intensity)\n",
    "\n",
    "demo = gr.Interface(\n",
    "    fn=greet,\n",
    "    inputs=[gr.Textbox(label=\"Nombre y apellidos\"), gr.Slider(minimum=2,maximum=10,label=\"N. repeticiones\")],\n",
    "    outputs=[\"text\"],\n",
    ")\n",
    "\n",
    "demo.launch()"
   ]
  },
  {
   "cell_type": "markdown",
   "id": "71d61c4a-76e3-4775-bb8b-422bc3726236",
   "metadata": {},
   "source": [
    "Expliquemos a continuación los cambios que hemos hecho en la presentación anterior. En la linea 8 y para el parámetro inputs, lo que se ha hecho es sustituir la expresión \"text\", por el componente concreto, que en su caso es *Textbox* y se le ha añadido el parámetro *labe* con un valor igual al que aparece encima de dicho campo cuando se muestra este campo. Algo similar se ha hecho cambiando la expresión *\"slider\"* por *gr.slider*. Todos los parámetros que admiten los componentes, se pueden encontrar en la documentación de gradio, por ejemplo los parámetros de este último componente los podemos encontrar <a href=\"https://www.gradio.app/docs/gradio/slider\" target=\"_blank\"> en este enlace </a>.\n",
    "\n",
    "Si su función acepta más de un argumento, como en el caso anterior, pase una lista de componentes de entrada a inputs, donde cada componente de entrada corresponda a uno de los argumentos de la función, en orden. Lo mismo aplica si su función devuelve más de un valor: simplemente pase una lista de componentes a outputs. Esta flexibilidad convierte a la clase Interface en una herramienta muy eficaz para crear demostraciones.\n",
    "\n",
    "La salida anterior también la podemos ver en nuestro ordenador local, sin más que poner en un navegador la siguiente dirección:  http://localhost:7860.\n",
    "\n",
    "También se puede hacer esta salida como pública, de tal manera que pueda ser vista fuera del ordenador local, para lo cual se debe poner el parámetro *share=True* en el método *launch()*.\n",
    "\n",
    "## Más entornos para mostrar elementos.\n",
    "\n",
    "No sólo se puede utilizar la interface para hacer estas presentaciones, pues gradio ofrece otras herramientas interesantes para ello.\n",
    "\n",
    "Se pueden crear Demos a medida con *gr.Blocks* con los cuales se pueden diseñar aplicaciones web con diseños y flujos de datos más personalizables y de esta manera y entre otras cosas, controlar la ubicación de los componentes en la página, gestionar múltiples flujos de datos e interacciones más complejas (por ejemplo, las salidas pueden servir como entradas para otras funciones) y actualizar las propiedades y la visibilidad de los componentes según la interacción del usuario. Gracias a estas facilidades, se puede construir la popular herramienta de generación de imágenes <a href =\"https://github.com/AUTOMATIC1111/stable-diffusion-webui\" target=\"_blank\"> Automatic1111 </a>.\n",
    "\n",
    "## Chatbots con gr.ChatInteface.\n",
    "\n",
    "Gradio, también son ofrece esta clase, diseñada específicamente para crear interfaces de usuario para chatbots. Al igual que en Interface, proporcionas una función y Gradio crea una interfaz de usuario para chatbot completamente funcional.\n",
    "\n",
    "## Gradio Sketch.\n",
    "\n",
    "También se pueden crear aplicaciones Gradio sin escribir código. Simplemente escribe gradio sketchen en tu terminal para abrir un editor que te permite definir y modificar componentes Gradio, ajustar sus diseños y añadir eventos, todo mediante un editor web. También puedes usar <a href=\"https://huggingface.co/spaces/aliabid94/Sketch\" target=\"_blank\">  esta versión alojada de Gradio Sketch, que se ejecuta en Hugging Face Spaces </a>.\n"
   ]
  },
  {
   "cell_type": "markdown",
   "id": "22958411-92f0-448c-b706-a31acf718405",
   "metadata": {},
   "source": [
    "## La componentes de Gradio.\n",
    "\n",
    "Gradio contiene más de 30 componentes para poder crear los elementos visuales de las página web que se pueden crear con él.Estas componentes se pueden usar como inputs o como outputs en los diseños creados por el usuario. Estas componentes, se pueden <a href=\"https://www.gradio.app/docs/gradio/introduction\" target=\"_blank\"> ver en este enlace </a>.\n",
    "\n",
    "Todas estas componentes tienen una serie de atributos que permiten particularizarlas de acuerdo a las necesidades de los usuarios y así conseguir con muy poco esfuerzo las necesidades puntuales de cada uno.\n",
    "\n",
    "Veamos el siguiente ejemplo, que nos muestra como deben estar estructuradas las componentes de la interface, y en concreto la lista de *inputs* y la lista de *outputs*:"
   ]
  },
  {
   "cell_type": "code",
   "execution_count": 4,
   "id": "111061e3-a78c-4ccf-ab69-0ca7e58b8989",
   "metadata": {},
   "outputs": [
    {
     "name": "stdout",
     "output_type": "stream",
     "text": [
      "* Running on local URL:  http://127.0.0.1:7862\n",
      "\n",
      "To create a public link, set `share=True` in `launch()`.\n"
     ]
    },
    {
     "data": {
      "text/html": [
       "<div><iframe src=\"http://127.0.0.1:7862/\" width=\"100%\" height=\"500\" allow=\"autoplay; camera; microphone; clipboard-read; clipboard-write;\" frameborder=\"0\" allowfullscreen></iframe></div>"
      ],
      "text/plain": [
       "<IPython.core.display.HTML object>"
      ]
     },
     "metadata": {},
     "output_type": "display_data"
    },
    {
     "data": {
      "text/plain": []
     },
     "execution_count": 4,
     "metadata": {},
     "output_type": "execute_result"
    }
   ],
   "source": [
    "import gradio as gr\n",
    "\n",
    "def greet(name, is_morning, temperature):\n",
    "    salutation = \"Buenos días\" if is_morning else \"Buenas tardes\"\n",
    "    greeting = f\"{salutation} {name}. La temperatura es de {temperature} grados hoy\"\n",
    "    celsius = (temperature - 32) * 5 / 9\n",
    "    return greeting, round(celsius, 2)\n",
    "\n",
    "demo = gr.Interface(\n",
    "    fn=greet,\n",
    "    inputs=[\"text\", \"checkbox\", gr.Slider(0, 100)],\n",
    "    outputs=[\"text\", \"number\"],\n",
    ")\n",
    "demo.launch()\n"
   ]
  },
  {
   "cell_type": "markdown",
   "id": "e4d9dd5c-676e-492a-ad6f-2053a2a08485",
   "metadata": {},
   "source": [
    "Como puede observarse en el ejemplo anterior, el número de elementos de la lista *inputs* debe de coincider con el número de parámetros de la función a la que se llama, y el número de elementos de la lista *outputs* debe de coincidir con los valores que devuelve la función a la que se llama. Ello es así puesto que los parámetros de entrada de la función son los valores (y en ese orden) que se pasa en la lista de *inputs*. Igual consideración hay que hacer para los valores de outputs.  \n",
    "\n",
    "También existe la posibilidad de añadir inputs adicionales incluidos éstos dentro de un componente en forma de acordeón. Esto lo podemos ver en el siguiente ejemplo:"
   ]
  },
  {
   "cell_type": "code",
   "execution_count": 5,
   "id": "8434e494-9e62-4c0c-a040-ec8eaa528b6b",
   "metadata": {},
   "outputs": [
    {
     "name": "stdout",
     "output_type": "stream",
     "text": [
      "* Running on local URL:  http://127.0.0.1:7863\n",
      "\n",
      "To create a public link, set `share=True` in `launch()`.\n"
     ]
    },
    {
     "data": {
      "text/html": [
       "<div><iframe src=\"http://127.0.0.1:7863/\" width=\"100%\" height=\"500\" allow=\"autoplay; camera; microphone; clipboard-read; clipboard-write;\" frameborder=\"0\" allowfullscreen></iframe></div>"
      ],
      "text/plain": [
       "<IPython.core.display.HTML object>"
      ]
     },
     "metadata": {},
     "output_type": "display_data"
    },
    {
     "data": {
      "text/plain": []
     },
     "execution_count": 5,
     "metadata": {},
     "output_type": "execute_result"
    }
   ],
   "source": [
    "import gradio as gr\n",
    "\n",
    "def generate_fake_image(prompt, seed, initial_image=None):\n",
    "    return f\"Used seed: {seed}\", \"https://dummyimage.com/300/09f.png\"\n",
    "\n",
    "demo = gr.Interface(\n",
    "    generate_fake_image,\n",
    "    inputs=[\"textbox\"],\n",
    "    outputs=[\"textbox\", \"image\"],\n",
    "    additional_inputs=[\n",
    "        gr.Slider(0, 1000),\n",
    "        \"image\"\n",
    "    ]\n",
    ")\n",
    "\n",
    "demo.launch()\n",
    "\n"
   ]
  },
  {
   "cell_type": "markdown",
   "id": "09d13154-5578-4fa1-b2cd-39a74f368c9f",
   "metadata": {},
   "source": [
    "## Estado de la Interface.\n",
    "```{index} Estado interface, estado global, estado de sesión.\n",
    "```\n",
    "Todos los ejemplos que se han visto hasta ahora se han hecho de tal manera que los resultados *no tienen estado*, es decir que los resultados obtenidos no persiste más allá de la ejecución puntual que realicemos. Pero en muchas ocasiones lo que se necesita es persistir ese valor para poder interactuar con otros resultados, de ahí la necesidad de poder guardar o persitir determinados resultados. En Gradio, existen dos enfoques para conseguir esto: *estado global* y *estado de sesión*.\n",
    "\n",
    "### Estado global.\n",
    "\n",
    "Si se quiere que el estado debe ser accesible para todas las llamadas a funciones y todos los usuarios, puede crear una variable fuera de la llamada a la función y acceder a ella dentro de esa función. Por ejemplo, puede cargar un modelo grande fuera de la función y usarlo dentro de ella para que cada llamada a la función no tenga que recargarlo.\n",
    "\n",
    "Veamos un ejemplo:"
   ]
  },
  {
   "cell_type": "code",
   "execution_count": 6,
   "id": "ae893750-f409-4c77-9d3a-3083e5361656",
   "metadata": {},
   "outputs": [
    {
     "name": "stdout",
     "output_type": "stream",
     "text": [
      "* Running on local URL:  http://127.0.0.1:7864\n",
      "\n",
      "To create a public link, set `share=True` in `launch()`.\n"
     ]
    },
    {
     "data": {
      "text/html": [
       "<div><iframe src=\"http://127.0.0.1:7864/\" width=\"100%\" height=\"500\" allow=\"autoplay; camera; microphone; clipboard-read; clipboard-write;\" frameborder=\"0\" allowfullscreen></iframe></div>"
      ],
      "text/plain": [
       "<IPython.core.display.HTML object>"
      ]
     },
     "metadata": {},
     "output_type": "display_data"
    },
    {
     "data": {
      "text/plain": []
     },
     "execution_count": 6,
     "metadata": {},
     "output_type": "execute_result"
    }
   ],
   "source": [
    "import gradio as gr\n",
    "\n",
    "scores = []\n",
    "\n",
    "def track_score(score):\n",
    "    scores.append(score)\n",
    "    top_scores = sorted(scores, reverse=True)[:3]\n",
    "    return top_scores\n",
    "\n",
    "demo = gr.Interface(\n",
    "    track_score,\n",
    "    gr.Number(label=\"Score\"),\n",
    "    gr.JSON(label=\"Top Scores\")\n",
    ")\n",
    "demo.launch()\n"
   ]
  },
  {
   "cell_type": "markdown",
   "id": "df58215e-d667-4968-96fa-3169c1ce8a86",
   "metadata": {},
   "source": [
    "En este ejemplo , la matriz *scores* se comparte entre todos los usuarios (tener en cuenta que se ha definido fuera de la función que llama la interface). Si varios usuarios acceden a esta demostración, sus puntuaciones se añadirán a la misma lista y las 3 puntuaciones más altas se recopilarán de esta referencia compartida.\n",
    "\n",
    "### Estado de sesión.\n",
    "\n",
    "Otro tipo de persistencia de datos compatible con Gradio es el **estado de sesión**, donde los datos persisten tras múltiples envíos dentro de una sesión de página. Sin embargo, los datos no se comparten entre los diferentes usuarios del modelo. Para almacenar datos en un estado de sesión, debe realizar tres pasos:\n",
    "\n",
    "1.- Pase un parámetro adicional a su función, que representa el estado de la interfaz.\n",
    "2.- Al final de la función, devuelve el valor actualizado del estado como un valor de retorno adicional.\n",
    "3.- Agregue los componentes 'state'de entrada y 'state' salida al crear suInterface\n",
    "\n",
    "Veamos a continuación una pequeña muestra de cómo operar con sesiones de estado"
   ]
  },
  {
   "cell_type": "code",
   "execution_count": 7,
   "id": "c2d3718e-78d3-49d6-ad4a-35b7e86c9f00",
   "metadata": {},
   "outputs": [
    {
     "name": "stdout",
     "output_type": "stream",
     "text": [
      "* Running on local URL:  http://127.0.0.1:7865\n",
      "\n",
      "To create a public link, set `share=True` in `launch()`.\n"
     ]
    },
    {
     "data": {
      "text/html": [
       "<div><iframe src=\"http://127.0.0.1:7865/\" width=\"100%\" height=\"500\" allow=\"autoplay; camera; microphone; clipboard-read; clipboard-write;\" frameborder=\"0\" allowfullscreen></iframe></div>"
      ],
      "text/plain": [
       "<IPython.core.display.HTML object>"
      ]
     },
     "metadata": {},
     "output_type": "display_data"
    },
    {
     "data": {
      "text/plain": []
     },
     "execution_count": 7,
     "metadata": {},
     "output_type": "execute_result"
    }
   ],
   "source": [
    "import gradio as gr\n",
    "\n",
    "def store_message(message: str, history: list[str]):  \n",
    "    output = {\n",
    "        \"Current messages\": message,\n",
    "        \"Previous messages\": history[::-1]\n",
    "    }\n",
    "    history.append(message)\n",
    "    return output, history\n",
    "\n",
    "demo = gr.Interface(fn=store_message,\n",
    "                    inputs=[\"textbox\", gr.State(value=[])],\n",
    "                    outputs=[\"json\", gr.State()])\n",
    "\n",
    "demo.launch()\n"
   ]
  },
  {
   "cell_type": "markdown",
   "id": "89abe799-eb43-49ab-8c23-78d739fcc84a",
   "metadata": {},
   "source": [
    "Observar cómo el estado persiste en todos los envíos dentro de cada página, pero si carga esta demostración en otra pestaña (o actualiza la página), las demostraciones no compartirán el historial de chat. En este caso, no pudimos almacenar el historial de envíos en una variable global; de lo contrario, se mezclaría entre los diferentes usuarios.\n",
    "\n",
    "## Tipos de interfaces.\n",
    "\n",
    "Gradio soporta cuatro tipos de interfaces:\n",
    "\n",
    "1.- Interface estándar: que tienen entradas y salidas independientes (son las que hemos visto en los ejemplos anteriores).\n",
    "\n",
    "2.- Interfaces de solo salida: que no toman ninguna entrada pero producen en la salida.\n",
    "\n",
    "3.- Interfaces de solo entrada:  que no producen ninguna salida pero sí aceptan algún tipo de entrada.\n",
    "\n",
    "4.- Interfaces unificadas: que tienen componentes de entrada y salida, pero estos son los mismos . Esto significa que la salida generada anula la entrada (por ejemplo, un modelo de autocompletado de texto)\n",
    "\n",
    "![](../fig/interfaces.PNG)"
   ]
  },
  {
   "cell_type": "markdown",
   "id": "b9706534-9bfe-4d60-a1a8-bf730f652030",
   "metadata": {},
   "source": [
    "## Construcción con bloques.\n",
    "\n",
    "Al trabajar con bloques podemos conseguir presentaciones más personalizadas que las que se obtienen utilizando las interfaces descritas en los apartados anteriores. Con estas herramientas podemos conseguir una disposición de los elementos de la página web a nuestra mediad, pero hay que tener en cuenta que por defecto, Gradio los coloca de forma vertical. Veamos a continuación un ejemplo introductorio. "
   ]
  },
  {
   "cell_type": "code",
   "execution_count": 8,
   "id": "72586526-68a6-4cff-8696-ae806715ad1a",
   "metadata": {},
   "outputs": [
    {
     "name": "stdout",
     "output_type": "stream",
     "text": [
      "* Running on local URL:  http://127.0.0.1:7866\n",
      "\n",
      "To create a public link, set `share=True` in `launch()`.\n"
     ]
    },
    {
     "data": {
      "text/html": [
       "<div><iframe src=\"http://127.0.0.1:7866/\" width=\"100%\" height=\"500\" allow=\"autoplay; camera; microphone; clipboard-read; clipboard-write;\" frameborder=\"0\" allowfullscreen></iframe></div>"
      ],
      "text/plain": [
       "<IPython.core.display.HTML object>"
      ]
     },
     "metadata": {},
     "output_type": "display_data"
    },
    {
     "data": {
      "text/plain": []
     },
     "execution_count": 8,
     "metadata": {},
     "output_type": "execute_result"
    }
   ],
   "source": [
    "import gradio as gr\n",
    "\n",
    "\n",
    "def greet(name):\n",
    "    return \"Hola \" + name + \"!\"\n",
    "\n",
    "\n",
    "with gr.Blocks() as demo:\n",
    "    name = gr.Textbox(label=\"Nombre\")\n",
    "    output = gr.Textbox(label=\"Salida generada\")\n",
    "    greet_btn = gr.Button(\"Adelante  !!!\")\n",
    "    greet_btn.click(fn=greet, inputs=name, outputs=output, api_name=\"greet\")\n",
    "\n",
    "demo.launch()\n"
   ]
  },
  {
   "cell_type": "markdown",
   "id": "8c94f67a-e677-4845-b47d-2e4238542102",
   "metadata": {},
   "source": [
    "Como puede verse, en este tipo de composiciones, los elementos a mostrar se inluyen de un bloque y después y dependiendo de la estrutura en la presentación que se quiera dar, se muestran de una u otra forma.\n",
    "\n",
    "Con una estructura de código más moderna, se pueden utilizar decoradores que agilizan la estructura del código. Veamos el mismo ejemplo de antes, pero con este nuevo elemento"
   ]
  },
  {
   "cell_type": "code",
   "execution_count": 9,
   "id": "d35ed3d0-fda2-4de4-b69a-7741eb9fa1ca",
   "metadata": {},
   "outputs": [
    {
     "name": "stdout",
     "output_type": "stream",
     "text": [
      "* Running on local URL:  http://127.0.0.1:7867\n",
      "\n",
      "To create a public link, set `share=True` in `launch()`.\n"
     ]
    },
    {
     "data": {
      "text/html": [
       "<div><iframe src=\"http://127.0.0.1:7867/\" width=\"100%\" height=\"500\" allow=\"autoplay; camera; microphone; clipboard-read; clipboard-write;\" frameborder=\"0\" allowfullscreen></iframe></div>"
      ],
      "text/plain": [
       "<IPython.core.display.HTML object>"
      ]
     },
     "metadata": {},
     "output_type": "display_data"
    },
    {
     "data": {
      "text/plain": []
     },
     "execution_count": 9,
     "metadata": {},
     "output_type": "execute_result"
    }
   ],
   "source": [
    "import gradio as gr\n",
    "\n",
    "with gr.Blocks() as demo:\n",
    "    nombre = gr.Textbox(label=\"Nombre\")\n",
    "    salida = gr.Textbox(label=\"Salida generada\")\n",
    "    greet_btn = gr.Button(\"Adelante !!!\")\n",
    "\n",
    "    @greet_btn.click(inputs=nombre, outputs=salida)\n",
    "    def greet(name):\n",
    "        return \"Hola \" + name + \"!\"\n",
    "\n",
    "demo.launch()"
   ]
  },
  {
   "cell_type": "markdown",
   "id": "745d25b8-d49d-4b9c-9b79-f2f659aabc7c",
   "metadata": {},
   "source": [
    "## Trabajar con eventos.\n",
    "\n",
    "Los eventos son una parte muy importante de cualquier lenguaje de programación, y en este sentido Gradio cuenta con los eventos suficientes como para poder ofrecer al usuario todos aquellos que necesite a la hora de realizar sus presentaciones web.\n",
    "\n",
    "En los ejemplos anteriores hemos visto, como incorporar el evento *click* para un botón, pero existen muchos más eventos para la mayor parte de los componentes. Estos eventos vienen descritos en la documentación oficial de Gradio, para cada componente.\n",
    "\n",
    "Podemos poner como otro ejemplo la interacción de un campo de texto con el usuario, de tal manera que cuando se detecte algún cambio en el campo de texto se haga algo. Para hacer esto utilizamos el evento *change()*."
   ]
  },
  {
   "cell_type": "code",
   "execution_count": 10,
   "id": "66fd085b-2cbb-42d2-af71-648d3125292b",
   "metadata": {},
   "outputs": [
    {
     "name": "stdout",
     "output_type": "stream",
     "text": [
      "* Running on local URL:  http://127.0.0.1:7868\n",
      "\n",
      "To create a public link, set `share=True` in `launch()`.\n"
     ]
    },
    {
     "data": {
      "text/html": [
       "<div><iframe src=\"http://127.0.0.1:7868/\" width=\"100%\" height=\"500\" allow=\"autoplay; camera; microphone; clipboard-read; clipboard-write;\" frameborder=\"0\" allowfullscreen></iframe></div>"
      ],
      "text/plain": [
       "<IPython.core.display.HTML object>"
      ]
     },
     "metadata": {},
     "output_type": "display_data"
    },
    {
     "data": {
      "text/plain": []
     },
     "execution_count": 10,
     "metadata": {},
     "output_type": "execute_result"
    }
   ],
   "source": [
    "import gradio as gr\n",
    "\n",
    "def welcome(name):\n",
    "    return f\"Bienvenido a mi web, {name}!\"\n",
    "\n",
    "with gr.Blocks() as demo:\n",
    "    gr.Markdown(\n",
    "    \"\"\"\n",
    "    # Hola!\n",
    "   Comienza a escribir el output!.\n",
    "    \"\"\")\n",
    "    inp = gr.Textbox(placeholder=\"Cual es tu nombre?\")\n",
    "    out = gr.Textbox()\n",
    "    inp.change(welcome, inp, out)\n",
    "\n",
    "demo.launch()\n"
   ]
  },
  {
   "cell_type": "markdown",
   "id": "0d120767-66e4-434c-81f7-ded76ddc7f7a",
   "metadata": {},
   "source": [
    "## Apéndice.\n",
    "\n",
    "* <a href=\"https://www.gradio.app/\" target=\"_blank\"> Página oficial </a>\n",
    "\n",
    "* <a href=\"https://www.gradio.app/docs/gradio/interface\" target=\"_blank\"> API de gradio </a>\n",
    "\n",
    "### Otras herramienta Python\n",
    "\n",
    "Python nos ofrece además otros entornos para generar páginas web:\n",
    "\n",
    "* <a href=\"https://streamlit.io/\" target=\"_blank\"> Streamlit </a>\n",
    "\n",
    "* <a href=\"https://mesop-dev.github.io/mesop/\" target=\"_blank\"> Mesop </a>\n",
    "\n",
    "* <a href=\"https://flask.palletsprojects.com/en/stable/\" target=\"_blank\"> Flask </a>\n",
    "\n",
    "* <a href=\"https://www.djangoproject.com/\" target=\"_blank\"> Django </a>\n",
    "\n",
    "* <a href=\"https://fastapi.tiangolo.com/\" target=\"_blank\"> FastAPI </a>"
   ]
  }
 ],
 "metadata": {
  "kernelspec": {
   "display_name": "Python 3 (ipykernel)",
   "language": "python",
   "name": "python3"
  },
  "language_info": {
   "codemirror_mode": {
    "name": "ipython",
    "version": 3
   },
   "file_extension": ".py",
   "mimetype": "text/x-python",
   "name": "python",
   "nbconvert_exporter": "python",
   "pygments_lexer": "ipython3",
   "version": "3.11.4"
  }
 },
 "nbformat": 4,
 "nbformat_minor": 5
}
