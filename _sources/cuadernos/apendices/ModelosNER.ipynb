{
 "cells": [
  {
   "cell_type": "markdown",
   "id": "5d2b81b3-adf3-4144-9c7b-f595c619d741",
   "metadata": {},
   "source": [
    "# Introducción a los modelos NER (Named Entity Recognition)\n",
    "```{index} Named Entity Recognition\n",
    "```\n",
    "\n",
    "**NOTA1:** Este documento es una traducción del documento <a href=\"https://machinelearningmastery.com/how-to-do-named-entity-recognition-ner-with-a-bert-model/?utm_source=drip&utm_medium=email&utm_campaign=MLM+Newsletter+February+22%2C+2025&utm_content=Named+Entity+Recognition+with+BERT+%E2%80%A2+Understanding+RAG+Context+Length+%26+Retrieval+Optimization\" target=\"_blank\"> que se puede ver en este enlace </a>.\n",
    "\n",
    "**NOTA2**: Se aconseja ejecutar los códigos que aquí se presentan en google colab si no se dispone de un ordenador potente y con GPU para agilizar la ejecución del código\n",
    "\n",
    "El reconocimiento de entidades con nombre (NER, por sus siglas en inglés) es uno de los pilares fundamentales de la comprensión del lenguaje natural. Cuando los humanos leemos un texto, identificamos y categorizamos naturalmente las entidades con nombre en función del contexto y el conocimiento del mundo. Por ejemplo, en la oración “ Satya Nadella, director ejecutivo de Microsoft, habló en una conferencia en Seattle ”, reconocemos sin esfuerzo las referencias organizativas, personales y geográficas. Sin embargo, enseñar a las máquinas a replicar esta capacidad humana aparentemente intuitiva presenta varios desafíos. Afortunadamente, este problema se puede abordar de manera eficaz utilizando un modelo de aprendizaje automático previamente entrenado.\n",
    "\n",
    "En esta publicación, aprenderá cómo resolver el problema NER con un modelo BERT utilizando solo unas pocas líneas de código Python."
   ]
  },
  {
   "cell_type": "markdown",
   "id": "d158da77-f0cb-4115-802d-0f30b83c4b16",
   "metadata": {},
   "source": [
    "## La complejidad de los sistemas NER.\n",
    "\n",
    "El desafío del reconocimiento de entidades con nombre va mucho más allá de la simple comparación de patrones o las búsquedas en diccionarios. Varios factores clave contribuyen a su complejidad.\n",
    "\n",
    "Uno de los desafíos más importantes es la dependencia del contexto : comprender cómo las palabras cambian de significado según el texto que las rodea. La misma palabra puede representar diferentes tipos de entidades según su contexto. Considere estos ejemplos:\n",
    "\n",
    "* “ Apple anunció nuevos productos ”. (Apple es una organización).\n",
    "\n",
    "* “ Comí una manzana en el almuerzo ”. (Manzana es un sustantivo común, no una entidad con nombre).\n",
    "\n",
    "\n",
    "* “ Apple Street está cerrada ”. (Apple es una ubicación).\n",
    "\n",
    "Las entidades con nombre suelen estar formadas por varias palabras, lo que hace que la detección de límites sea otro desafío. Los nombres de las entidades pueden ser complejos, como por ejemplo:\n",
    "\n",
    "* Entidades corporativas: “Bank of America Corporation”\n",
    "  \n",
    "* Nombres de productos: “iPhone 14 Pro Max”\n",
    "\n",
    "* Nombres de personas: “Martin Luther King Jr.”\n",
    "\n",
    "Además, el lenguaje es dinámico y evoluciona continuamente. En lugar de memorizar lo que se considera una entidad, los modelos deben deducirlo del contexto. La evolución del lenguaje introduce nuevas entidades, como empresas emergentes, nuevos productos y términos recién acuñados.\n",
    "\n",
    "Ahora, exploremos cómo los modelos NER de última generación abordan estos desafíos."
   ]
  },
  {
   "cell_type": "markdown",
   "id": "6f10cf2e-8c6c-4457-a5e8-1e9fbf50b483",
   "metadata": {},
   "source": [
    "## La evolución de la tecnología NER.\n",
    "\n",
    "La evolución de la tecnología NER refleja el avance más amplio del procesamiento del lenguaje natural. Los primeros enfoques se basaban en sistemas basados en reglas y en la comparación de patrones (definiendo patrones gramaticales, identificando mayúsculas y utilizando marcadores contextuales (por ejemplo, “el” antes de un nombre propio). Sin embargo, estas reglas solían ser numerosas, inconsistentes y difíciles de escalar.\n",
    "\n",
    "Para mejorar la precisión, los investigadores introdujeron enfoques estadísticos, aprovechando modelos basados en probabilidad como los modelos ocultos de Markov (HMM) y los campos aleatorios condicionales (CRF) para identificar entidades nombradas.\n",
    "\n",
    "Con el auge del aprendizaje profundo, las redes neuronales se convirtieron en el método preferido para el aprendizaje profundo. Inicialmente, las redes LSTM bidireccionales resultaron prometedoras. Sin embargo, la introducción de mecanismos de atención y modelos basados en transformers demostró ser aún más eficaz."
   ]
  },
  {
   "cell_type": "markdown",
   "id": "6e86b166-4aca-4ed1-b76d-4d66dc2ff2ad",
   "metadata": {},
   "source": [
    "## El enfoque revolucionaio de BERT para el NER\n",
    "\n",
    "BERT (Bidirectional Encoder Representations from Transformers) ha transformado fundamentalmente NER con varias innovaciones clave:\n",
    "\n",
    "### comprensión contextual.\n",
    "\n",
    "A diferencia de los modelos tradicionales que procesan el texto en una dirección, la naturaleza bidireccional de BERT le permite considerar tanto el texto anterior como el siguiente, lo que le permite capturar dependencias de largo alcance, comprender matices contextuales sutiles y manejar casos ambiguos de manera más eficaz.\n",
    "\n",
    "### Tokenización y unidades de subpalabras.\n",
    "\n",
    "Si bien no es exclusivo de BERT, su estrategia de tokenización de subpalabras le permite manejar palabras desconocidas y, al mismo tiempo, preservar la información morfológica. Esto reduce el tamaño del vocabulario y hace que el modelo sea adaptable a diferentes idiomas y dominios.\n",
    "\n",
    "### El mecanismo de eqtiquetado IOB\n",
    "\n",
    "Los resultados de NER se pueden representar de varias maneras, pero BERT utiliza el esquema de etiquetado Inside-Outside-Beginning (IOB):\n",
    "\n",
    "*B marca el comienzo de una entidad.\n",
    "\n",
    "* I indica la continuación de una entidad.\n",
    "  \n",
    "* O significa no-entidades.\n",
    "\n",
    "Este método permite a BERT gestionar de manera eficaz entidades de varias palabras, entidades anidadas y entidades superpuestas."
   ]
  },
  {
   "cell_type": "markdown",
   "id": "14d56887-251c-431d-82d1-52303192be18",
   "metadata": {},
   "source": [
    "## Uso de DistilBERT con el Pipeline de Hugging Face\n",
    "\n",
    "La forma más sencilla de realizar NER es mediante pipelinela API de Hugging Face, que elimina gran parte de la complejidad y al mismo tiempo ofrece resultados potentes. A continuación, se muestra un ejemplo:"
   ]
  },
  {
   "cell_type": "code",
   "execution_count": 1,
   "id": "1cd0c4db-61be-4e3a-b4cc-253f09ce7404",
   "metadata": {},
   "outputs": [
    {
     "name": "stderr",
     "output_type": "stream",
     "text": [
      "D:\\MisTrabajos\\IA_generativa\\venv\\Lib\\site-packages\\tqdm\\auto.py:21: TqdmWarning: IProgress not found. Please update jupyter and ipywidgets. See https://ipywidgets.readthedocs.io/en/stable/user_install.html\n",
      "  from .autonotebook import tqdm as notebook_tqdm\n",
      "Some weights of the model checkpoint at dbmdz/bert-large-cased-finetuned-conll03-english were not used when initializing BertForTokenClassification: ['bert.pooler.dense.bias', 'bert.pooler.dense.weight']\n",
      "- This IS expected if you are initializing BertForTokenClassification from the checkpoint of a model trained on another task or with another architecture (e.g. initializing a BertForSequenceClassification model from a BertForPreTraining model).\n",
      "- This IS NOT expected if you are initializing BertForTokenClassification from the checkpoint of a model that you expect to be exactly identical (initializing a BertForSequenceClassification model from a BertForSequenceClassification model).\n"
     ]
    },
    {
     "name": "stdout",
     "output_type": "stream",
     "text": [
      "Entity: Apple\n",
      "Type: ORG\n",
      "Confidence: 0.9975\n",
      "------------------------------\n",
      "Entity: Tim Cook\n",
      "Type: PER\n",
      "Confidence: 0.9996\n",
      "------------------------------\n",
      "Entity: iPhone\n",
      "Type: MISC\n",
      "Confidence: 0.9932\n",
      "------------------------------\n",
      "Entity: California\n",
      "Type: LOC\n",
      "Confidence: 0.9997\n",
      "------------------------------\n"
     ]
    }
   ],
   "source": [
    "from transformers import pipeline\n",
    "\n",
    "# Initialize the NER pipeline\n",
    "ner_pipeline = pipeline(\"ner\", \n",
    "                        model=\"dbmdz/bert-large-cased-finetuned-conll03-english\",\n",
    "                        aggregation_strategy=\"simple\")\n",
    "\n",
    "# Text example\n",
    "text = \"Apple CEO Tim Cook announced new iPhone models in California yesterday.\"\n",
    "\n",
    "# Perform NER\n",
    "entities = ner_pipeline(text)\n",
    "\n",
    "# Print the results\n",
    "for entity in entities:\n",
    "    print(f\"Entity: {entity['word']}\")\n",
    "    print(f\"Type: {entity['entity_group']}\")\n",
    "    print(f\"Confidence: {entity['score']:.4f}\")\n",
    "    print(\"-\" * 30)"
   ]
  },
  {
   "cell_type": "markdown",
   "id": "25d07f71-b56a-41a6-a4c1-257ed3b844d3",
   "metadata": {},
   "source": [
    "Ahora, analicemos este código en detalle. Primero, inicializa la canalización:"
   ]
  },
  {
   "cell_type": "markdown",
   "id": "97265112-c8b3-4de6-a3af-30c79da29b39",
   "metadata": {},
   "source": [
    "```python\n",
    "ner_pipeline = pipeline(\"ner\", \n",
    "                        model=\"dbmdz/bert-large-cased-finetuned-conll03-english\",\n",
    "                        aggregation_strategy=\"simple\")\n",
    "```\n",
    "\n"
   ]
  },
  {
   "cell_type": "markdown",
   "id": "136f824f-881c-4436-b3d9-301dbcc08109",
   "metadata": {},
   "source": [
    "La función *pipeline()* crea una secuencia de comandos NER lista para usar. Esto es esencial porque, si bien BERT es un modelo de aprendizaje automático, el texto debe preprocesarse antes de que el modelo pueda procesarlo. Además, la salida del modelo debe convertirse a un formato utilizable. Una secuencia de comandos maneja estos pasos automáticamente.\n",
    "\n",
    "El argumento \"ner\"especifica que desea el reconocimiento de entidades con nombre y *model=\"dbmdz/bert-large-cased-finetuned-conll03-english\"* carga un modelo entrenado previamente y ajustado específicamente para NER. El argumento final, *aggregation_strategy=\"simple\"*, garantiza que las subpalabras se fusionen en palabras completas, lo que hace que el resultado sea más legible.\n",
    "\n",
    "La secuencia anterior devuelve una lista de diccionarios, donde cada diccionario contiene:\n",
    "\n",
    "* word:El texto de la entidad detectada\n",
    "* entity_group:El tipo de entidad (por ejemplo, PERpara persona, ORGpara organización)\n",
    "* score:Puntuación de confianza entre 0 y 1\n",
    "* starty end: Posiciones de los personajes en el texto original"
   ]
  },
  {
   "cell_type": "markdown",
   "id": "4019091b-ed84-4082-8028-aabcaf04053c",
   "metadata": {},
   "source": [
    "## Uso explícito de DistilBERT con AutoModelForTokenClassification.\n",
    "```{index} AutoModelForTokenClassification\n",
    "```\n",
    "\n",
    "Para tener un mayor control sobre el proceso de NER, puede omitir la canalización y trabajar directamente con el modelo y el tokenizador. Este enfoque proporciona más flexibilidad y conocimiento del proceso. A continuación, se muestra un ejemplo:\n"
   ]
  },
  {
   "cell_type": "code",
   "execution_count": 2,
   "id": "e5283df8-9fba-4641-8d99-12b0af3c6864",
   "metadata": {},
   "outputs": [
    {
     "name": "stderr",
     "output_type": "stream",
     "text": [
      "Some weights of the model checkpoint at dbmdz/bert-large-cased-finetuned-conll03-english were not used when initializing BertForTokenClassification: ['bert.pooler.dense.bias', 'bert.pooler.dense.weight']\n",
      "- This IS expected if you are initializing BertForTokenClassification from the checkpoint of a model trained on another task or with another architecture (e.g. initializing a BertForSequenceClassification model from a BertForPreTraining model).\n",
      "- This IS NOT expected if you are initializing BertForTokenClassification from the checkpoint of a model that you expect to be exactly identical (initializing a BertForSequenceClassification model from a BertForSequenceClassification model).\n"
     ]
    },
    {
     "name": "stdout",
     "output_type": "stream",
     "text": [
      "Entity: Google\n",
      "Type: I-ORG\n",
      "------------------------------\n",
      "Entity: Microsoft\n",
      "Type: I-ORG\n",
      "------------------------------\n",
      "Entity: Elon\n",
      "Type: I-PER\n",
      "------------------------------\n",
      "Entity: Musk\n",
      "Type: I-PER\n",
      "------------------------------\n",
      "Entity: SpaceX\n",
      "Type: I-ORG\n",
      "------------------------------\n"
     ]
    }
   ],
   "source": [
    "from transformers import AutoTokenizer, AutoModelForTokenClassification\n",
    "import torch\n",
    "\n",
    "# Load model and tokenizer\n",
    "model_name = \"dbmdz/bert-large-cased-finetuned-conll03-english\"\n",
    "tokenizer = AutoTokenizer.from_pretrained(model_name)\n",
    "model = AutoModelForTokenClassification.from_pretrained(model_name)\n",
    "\n",
    "# Text example\n",
    "text = \"Google and Microsoft are competing in the AI space while Elon Musk founded SpaceX.\"\n",
    "\n",
    "# Tokenize the text\n",
    "inputs = tokenizer(text, return_tensors=\"pt\", add_special_tokens=True)\n",
    "\n",
    "# Get predictions\n",
    "with torch.no_grad():\n",
    "    outputs = model(**inputs)\n",
    "    predictions = torch.argmax(outputs.logits, dim=2)\n",
    "\n",
    "# Convert predictions to labels\n",
    "label_list = model.config.id2label\n",
    "tokens = tokenizer.convert_ids_to_tokens(inputs[\"input_ids\"][0])\n",
    "predictions = predictions[0].tolist()\n",
    "\n",
    "# Process results\n",
    "current_entity = []\n",
    "current_entity_type = None\n",
    "\n",
    "for token, prediction in zip(tokens, predictions):\n",
    "    if token.startswith(\"##\"):\n",
    "        if current_entity:\n",
    "            current_entity.append(token[2:])\n",
    "    else:\n",
    "        if current_entity:\n",
    "            print(f\"Entity: {''.join(current_entity)}\")\n",
    "            print(f\"Type: {current_entity_type}\")\n",
    "            print(\"-\" * 30)\n",
    "            current_entity = []\n",
    "\n",
    "        if label_list[prediction] != \"O\":\n",
    "            current_entity = [token]\n",
    "            current_entity_type = label_list[prediction]\n",
    "            \n",
    "# Print final entity if exists\n",
    "if current_entity:\n",
    "    print(f\"Entity: {''.join(current_entity)}\")\n",
    "    print(f\"Type: {current_entity_type}\")"
   ]
  },
  {
   "cell_type": "markdown",
   "id": "df66e257-b553-493a-8449-e0f5d4c33704",
   "metadata": {},
   "source": [
    "Esta implementación es más detallada. Veamos cómo hacerlo paso a paso. Primero, se carga el modelo y el tokenizador:\n",
    "\n",
    "```python\n",
    "model_name = \"dbmdz/bert-large-cased-finetuned-conll03-english\"\n",
    "tokenizer = AutoTokenizer.from_pretrained(model_name)\n",
    "model = AutoModelForTokenClassification.from_pretrained(model_name)\n",
    "```\n",
    "\n",
    "La clase AutoTokenizer selecciona automáticamente el tokenizador adecuado en función de la tarjeta del modelo , lo que garantiza la compatibilidad. Los tokenizadores son responsables de transformar el texto de entrada en tokens. AutoModelForTokenClassificationCarga un modelo ajustado para tareas de clasificación de tokens, que incluye tanto la arquitectura del modelo como los pesos entrenados previamente.\n",
    "\n",
    "A continuación, preprocesa el texto de entrada:\n",
    "\n",
    "```python\n",
    "inputs = tokenizer(text, return_tensors=\"pt\", add_special_tokens=True)\n",
    "```\n",
    "Este paso convierte el texto en identificadores de token que el modelo puede procesar. Un token es normalmente una palabra, pero también puede ser una subpalabra. Por ejemplo, “sub-” y “-word” pueden reconocerse por separado aunque aparezcan como una sola palabra. El return_tensors=\"pt\"argumento devuelve la secuencia como tensores de PyTorch, mientras que add_special_tokens=Truegarantiza la inclusión de tokens [CLS]y [SEP]al principio y al final de la salida, que son requeridos por BERT.\n",
    "\n",
    "Luego, ejecuta el modelo en el tensor de entrada:\n",
    "\n",
    "```python\n",
    "with torch.no_grad():\n",
    "    outputs = model(**inputs)\n",
    "    predictions = torch.argmax(outputs.logits, dim=2)\n",
    "```\n",
    "\n",
    "El uso *torch.no_grad()* deshabilita el cálculo de gradiente durante la inferencia, lo que ahorra tiempo y memoria. La función torch.argmax(outputs.logits, dim=2)selecciona la etiqueta más probable para cada token. El tensor predictionses un tensor de números enteros.\n",
    "\n",
    "Para convertir la salida del modelo en texto legible para humanos, preparamos un mapeo entre los índices de predicción y las etiquetas de entidad reales:\n",
    "\n",
    "```python\n",
    "label_list = model.config.id2label\n",
    "tokens = tokenizer.convert_ids_to_tokens(inputs[\"input_ids\"][0])\n",
    "predictions = predictions[0].tolist()\n",
    "```\n",
    "\n",
    "El diccionario model.config.id2labeles una asignación de índices de predicción a etiquetas de entidades reales. La función convert_ids_to_tokensconvierte los identificadores de tokens enteros nuevamente en texto legible. Dado que ejecuta el modelo con una sola línea de texto de entrada, solo se espera una secuencia de salida. Convertimos las predicciones a una lista de Python para facilitar su procesamiento.\n",
    "\n",
    "Por último, reconstruya las predicciones de entidad utilizando un bucle. Dado que el tokenizador de BERT a veces divide las palabras en subpalabras (indicadas por \"##\"), las vuelve a fusionar para formar palabras completas. El tipo de entidad se determina utilizando el label_listdiccionario.\n"
   ]
  },
  {
   "cell_type": "markdown",
   "id": "a88608b3-3ae7-44b0-bcda-00f27f6eb389",
   "metadata": {},
   "source": [
    "## Mejores prácticas para la implementación de NER\n",
    "\n",
    "Realizar el reconocimiento de entidades con nombre (NER) es tan sencillo como se muestra arriba. Sin embargo, no es necesario que utilices el código exacto proporcionado. En concreto, puedes cambiar entre diferentes modelos (junto con el tokenizador correspondiente). Si necesitas un procesamiento más rápido, considera utilizar un modelo DistilBERT. Si la precisión es una prioridad, opta por un modelo BERT o RoBERTa más grande. Además, si tu entrada requiere conocimiento específico del dominio, puedes beneficiarte del uso de un modelo adaptado al dominio.\n",
    "\n",
    "Si necesita procesar un gran volumen de texto para NER, puede mejorar la eficiencia procesando las entradas en lotes. Otras técnicas, como usar una GPU para acelerar o almacenar en caché los resultados de los textos a los que se accede con frecuencia, pueden mejorar aún más el rendimiento.\n",
    "\n",
    "En un sistema de producción, también se debe implementar una lógica de manejo de errores adecuada, que incluya la validación de la entrada, el manejo de casos extremos como cadenas vacías y caracteres especiales, y la solución de otros problemas potenciales.\n",
    "\n",
    "A continuación se muestra un ejemplo completo que incorpora estas mejores prácticas:"
   ]
  },
  {
   "cell_type": "code",
   "execution_count": 3,
   "id": "8588885d-034e-4ea7-b143-6e5323625c9d",
   "metadata": {},
   "outputs": [
    {
     "name": "stderr",
     "output_type": "stream",
     "text": [
      "Some weights of the model checkpoint at dbmdz/bert-large-cased-finetuned-conll03-english were not used when initializing BertForTokenClassification: ['bert.pooler.dense.bias', 'bert.pooler.dense.weight']\n",
      "- This IS expected if you are initializing BertForTokenClassification from the checkpoint of a model trained on another task or with another architecture (e.g. initializing a BertForSequenceClassification model from a BertForPreTraining model).\n",
      "- This IS NOT expected if you are initializing BertForTokenClassification from the checkpoint of a model that you expect to be exactly identical (initializing a BertForSequenceClassification model from a BertForSequenceClassification model).\n"
     ]
    },
    {
     "name": "stdout",
     "output_type": "stream",
     "text": [
      "Entity: Apple Inc\n",
      "Type: ORG\n",
      "Confidence: 0.9995\n",
      "------------------------------\n",
      "Entity: Tim Cook\n",
      "Type: PER\n",
      "Confidence: 0.9997\n",
      "------------------------------\n",
      "Entity: Microsoft\n",
      "Type: ORG\n",
      "Confidence: 0.9996\n",
      "------------------------------\n",
      "Entity: Google\n",
      "Type: ORG\n",
      "Confidence: 0.9992\n",
      "------------------------------\n",
      "Entity: New York City\n",
      "Type: LOC\n",
      "Confidence: 0.9993\n",
      "------------------------------\n",
      "Entity: Sundar Pichai\n",
      "Type: PER\n",
      "Confidence: 0.9911\n",
      "------------------------------\n",
      "Entity: Satya Nadella\n",
      "Type: PER\n",
      "Confidence: 0.9961\n",
      "------------------------------\n"
     ]
    }
   ],
   "source": [
    "from transformers import pipeline\n",
    "import torch\n",
    "import logging\n",
    "from typing import List, Dict\n",
    "\n",
    "class NERProcessor:\n",
    "    def __init__(self,\n",
    "                 model_name: str = \"dbmdz/bert-large-cased-finetuned-conll03-english\",\n",
    "                 confidence_threshold: float = 0.8):\n",
    "        self.confidence_threshold = confidence_threshold\n",
    "        try:\n",
    "            self.device = \"cuda\" if torch.cuda.is_available() else \"cpu\"\n",
    "            self.ner_pipeline = pipeline(\"ner\", \n",
    "                                         model=model_name,\n",
    "                                         aggregation_strategy=\"simple\",\n",
    "                                         device=self.device)\n",
    "        except Exception as e:\n",
    "            logging.error(f\"Failed to initialize NER pipeline: {str(e)}\")\n",
    "            raise\n",
    "\n",
    "    def process_text(self, text: str) -> List[Dict]:\n",
    "        if not text or not isinstance(text, str):\n",
    "            logging.warning(\"Invalid input text\")\n",
    "            return []\n",
    "\n",
    "        try:\n",
    "            # Get predictions\n",
    "            entities = self.ner_pipeline(text)\n",
    "            \n",
    "            # Post-process results\n",
    "            filtered_entities = [\n",
    "                entity for entity in entities\n",
    "                if entity['score'] >= self.confidence_threshold\n",
    "            ]\n",
    "            \n",
    "            return filtered_entities            \n",
    "        except Exception as e:\n",
    "            logging.error(f\"Error processing text: {str(e)}\")\n",
    "            return []\n",
    "\n",
    "\n",
    "if __name__ == \"__main__\":\n",
    "    # Initialize processor\n",
    "    processor = NERProcessor()\n",
    "    \n",
    "    # Text example\n",
    "    text = \"\"\"\n",
    "    Apple Inc. CEO Tim Cook announced new partnerships with Microsoft \n",
    "    and Google during a conference in New York City. The event was also \n",
    "    attended by Sundar Pichai and Satya Nadella.\n",
    "    \"\"\"\n",
    "    \n",
    "    # Process text\n",
    "    results = processor.process_text(text)\n",
    "    \n",
    "    # Print results\n",
    "    for entity in results:\n",
    "        print(f\"Entity: {entity['word']}\")\n",
    "        print(f\"Type: {entity['entity_group']}\")\n",
    "        print(f\"Confidence: {entity['score']:.4f}\")\n",
    "        print(\"-\" * 30)"
   ]
  },
  {
   "cell_type": "code",
   "execution_count": null,
   "id": "a04b67de-5690-4e70-8827-a8bc48472d3e",
   "metadata": {},
   "outputs": [],
   "source": []
  },
  {
   "cell_type": "code",
   "execution_count": null,
   "id": "ca47e773-a8ce-4097-8c4c-81021613965e",
   "metadata": {},
   "outputs": [],
   "source": []
  }
 ],
 "metadata": {
  "kernelspec": {
   "display_name": "Python 3 (ipykernel)",
   "language": "python",
   "name": "python3"
  },
  "language_info": {
   "codemirror_mode": {
    "name": "ipython",
    "version": 3
   },
   "file_extension": ".py",
   "mimetype": "text/x-python",
   "name": "python",
   "nbconvert_exporter": "python",
   "pygments_lexer": "ipython3",
   "version": "3.11.4"
  }
 },
 "nbformat": 4,
 "nbformat_minor": 5
}
