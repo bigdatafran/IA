{
 "cells": [
  {
   "cell_type": "markdown",
   "id": "e7ea8a87-991f-4cd8-8023-fe45cf2d0012",
   "metadata": {},
   "source": [
    "# Videos sobre IA.\n",
    "\n",
    "A continuación se pasa a difundir una serie de canales disponibles en la red sobre IA y que pueden ayudar a comprender cómo utilizar esta herramienta.\n",
    "\n",
    "* <a href=\"https://www.youtube.com/@AMPTech/videos\" target=\"_blank\"> Canal de Alex </a>\n",
    "\n",
    "* <a href=\"https://www.youtube.com/@ismaelRR\" target=\"_blank\"> Canal de IsmaelRR </a>\n",
    "\n",
    "* <a href=\"https://www.youtube.com/@julioandresdev_esp/videos\" target=\"_blank\"> Canal de Julio Andrés </a>\n",
    "\n",
    "* <a href=\"https://www.youtube.com/@tonidev_\" target=\"_blank\"> Canal de Julio Toni Dev </a>\n",
    "\n",
    "* <a href=\"https://www.youtube.com/watch?v=Xc5xNRM_hvk\" target=\"_blank\"> Ejecutar Llama en colab </a>\n",
    "\n",
    "* <a href=\"https://www.youtube.com/watch?v=4tVdDLrucOk\" target=\"_blank\"> Ejecutar DeepSeeck en colab </a>\n",
    "\n"
   ]
  }
 ],
 "metadata": {
  "kernelspec": {
   "display_name": "Python 3 (ipykernel)",
   "language": "python",
   "name": "python3"
  },
  "language_info": {
   "codemirror_mode": {
    "name": "ipython",
    "version": 3
   },
   "file_extension": ".py",
   "mimetype": "text/x-python",
   "name": "python",
   "nbconvert_exporter": "python",
   "pygments_lexer": "ipython3",
   "version": "3.11.4"
  }
 },
 "nbformat": 4,
 "nbformat_minor": 5
}
