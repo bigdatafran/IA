{
 "cells": [
  {
   "cell_type": "markdown",
   "id": "34879029-c6bf-429a-a12f-cb3f8de4cecd",
   "metadata": {},
   "source": [
    "# Bases de datos en LangChain.\n",
    "\n",
    "En este apartado vamos a ver los siguientes aspectos:\n",
    "\n",
    "* ¿Cómo cargar fuentes de datos de todo tipo con Langchain\n",
    "\n",
    "* ¿Cómo transformar documentos y fragmentarlos?\n",
    "\n",
    "* ¿Cómo convertir documentos en vectores a partir de incrustaciones embeddings\n",
    "\n",
    "* ¿Cómo almacenar los datos (internos y externos) en una base de datos vectorizada?\n",
    "\n",
    "* ¿Cómo realizar consultas a la base de datos vectorizada y mejorar los resultados con LLMs\n",
    "\n",
    "Comenzamos con el primer apartado, es decír, cómo poder cargar datos de múltiples fuentes.\n",
    "\n",
    "## Cargadores de documentos.\n",
    "\n",
    "Langchain viene con herramientas de carga integradas para cargar rápidamente archivos en su propio objeto Documento.\n",
    "\n",
    "Muchos de estos cargadores requieren otras bibliotecas, por ejemplo, la carga de PDF requiere la biblioteca pypdf y la carga de HTML requiere la biblioteca Beautiful Soup . Asegurar de instalar las bibliotecas requeridas antes de usar el cargador (los cargadores informarán si no pueden encontrar las bibliotecas instaladas).\n",
    "\n",
    "Entre otras librerias es muy conveniente tener instalada la  librería *Langchain community* para loaders en Python .\n",
    "\n",
    "Para ver la documentación sobre los loaders de LangChain, se puede visitar el siguiente enlace: \n",
    "\n",
    "https://python.langchain.com/v0.2/docs/integrations/document_loaders/\n",
    "\n",
    "Procedemos a cargar las librerías e instanciar el modelo de tipo de chat"
   ]
  },
  {
   "cell_type": "code",
   "execution_count": null,
   "id": "44542e4a-c2cb-4c1d-984f-5acbfa5d9a75",
   "metadata": {},
   "outputs": [],
   "source": [
    "import langchain\n",
    "from langchain_openai import ChatOpenAI\n",
    "from langchain.prompts import PromptTemplate, SystemMessagePromptTemplate,ChatPromptTemplate, HumanMessagePromptTemplate\n",
    "\n",
    "chat = ChatOpenAI(\n",
    "    model=\"llama3.2\",\n",
    "    base_url = 'http://localhost:11434/v1',\n",
    "    api_key='ollama', # required, but unused,\n",
    ")"
   ]
  },
  {
   "cell_type": "markdown",
   "id": "e113f93b-1f96-49e4-920d-e0e792cec1b2",
   "metadata": {},
   "source": [
    "## Cargar documentos de tipo CSV"
   ]
  },
  {
   "cell_type": "code",
   "execution_count": null,
   "id": "87a9d2e0-1d6a-4483-b407-77744b5e7984",
   "metadata": {},
   "outputs": [],
   "source": [
    "from langchain.document_loaders import CSVLoader #pip install langchain-community en una terminal"
   ]
  },
  {
   "cell_type": "code",
   "execution_count": null,
   "id": "6265a2fb-7cfb-4875-9641-80829442dc37",
   "metadata": {},
   "outputs": [],
   "source": [
    "#Cargamos el fichero CSV\n",
    "loader = CSVLoader('Fuentes datos/datos_ventas_small.csv',csv_args={'delimiter': ';'})\n",
    "#Creamos el objeto \"data\" con los datos desde el cargador \"loader\"\n",
    "data = loader.load()\n",
    "#print(data) #Vemos que se ha creado un documento por cada fila donde el campo page_content contiene los datos\n",
    "data[0]"
   ]
  },
  {
   "cell_type": "code",
   "execution_count": null,
   "id": "c35507a5-2eeb-41eb-bbea-5223d7142bcb",
   "metadata": {},
   "outputs": [],
   "source": [
    "print(data[1].page_content)"
   ]
  },
  {
   "cell_type": "markdown",
   "id": "9c0b205b-2d46-49d1-991d-cb69f2f114f8",
   "metadata": {},
   "source": [
    "## Cargar datos HTML"
   ]
  },
  {
   "cell_type": "code",
   "execution_count": null,
   "id": "e403a627-7a4f-4af4-a103-92b2bc55beaa",
   "metadata": {},
   "outputs": [],
   "source": [
    "from langchain.document_loaders import BSHTMLLoader #pip install beautifulsoup4 en una terminal"
   ]
  },
  {
   "cell_type": "code",
   "execution_count": null,
   "id": "81a13c1b-101a-49f8-b2a1-6a213aae86ad",
   "metadata": {},
   "outputs": [],
   "source": [
    "loader = BSHTMLLoader('Fuentes datos/ejemplo_web.html')\n",
    "data = loader.load()\n",
    "data"
   ]
  },
  {
   "cell_type": "code",
   "execution_count": null,
   "id": "014e0969-e655-4e84-b7e3-c7452668ca1a",
   "metadata": {},
   "outputs": [],
   "source": [
    "print(data[0].page_content)"
   ]
  },
  {
   "cell_type": "markdown",
   "id": "9b80b1da-5ded-4cff-b426-e88fef43d346",
   "metadata": {},
   "source": [
    "## Cargar datos PDF"
   ]
  },
  {
   "cell_type": "code",
   "execution_count": null,
   "id": "c1ada8d2-1437-4429-9aa8-3c6f6d764a7a",
   "metadata": {},
   "outputs": [],
   "source": [
    "from langchain.document_loaders import PyPDFLoader #pip install pypdf en una terminal"
   ]
  },
  {
   "cell_type": "code",
   "execution_count": null,
   "id": "b542c90e-7053-499a-bbb7-1233ba885bd1",
   "metadata": {},
   "outputs": [],
   "source": [
    "loader = PyPDFLoader('Fuentes datos/Documento tecnologías emergentes.pdf')\n",
    "pages = loader.load_and_split()\n",
    "type(pages)"
   ]
  },
  {
   "cell_type": "code",
   "execution_count": null,
   "id": "e03e7b54-686c-4cf2-bf90-feaae2be6a88",
   "metadata": {},
   "outputs": [],
   "source": [
    "pages[0]"
   ]
  },
  {
   "cell_type": "code",
   "execution_count": null,
   "id": "7aa4cc0a-f522-4c8d-8039-b5fc838ee846",
   "metadata": {},
   "outputs": [],
   "source": [
    "print(pages[0].page_content)"
   ]
  },
  {
   "cell_type": "markdown",
   "id": "6cecd4ee-c6ab-4e3e-99bb-8f8836f99c05",
   "metadata": {},
   "source": [
    "## Caso de uso resumir un documento\n",
    "\n",
    "En este apartado vamos a ver un ejemplo concreto sobre como poder utilizar el poder la IA para hacer un resumen de un texto"
   ]
  },
  {
   "cell_type": "code",
   "execution_count": null,
   "id": "e1771274-f7b5-4379-9396-82ae363dcd95",
   "metadata": {},
   "outputs": [],
   "source": [
    "contenido_pdf=pages[0].page_content\n",
    "contenido_pdf"
   ]
  },
  {
   "cell_type": "code",
   "execution_count": null,
   "id": "7d0acc9f-fda1-4eae-96c2-f429d92c6760",
   "metadata": {},
   "outputs": [],
   "source": [
    "human_template = '\"Necesito que hagas un resumen del siguiente texto: \\n{contenido}\"'\n",
    "human_prompt = HumanMessagePromptTemplate.from_template(human_template)"
   ]
  },
  {
   "cell_type": "code",
   "execution_count": null,
   "id": "07c36a0c-1d89-48cc-a550-62ad8648841a",
   "metadata": {},
   "outputs": [],
   "source": [
    "chat_prompt = ChatPromptTemplate.from_messages([human_prompt])\n",
    "\n",
    "chat_prompt.format_prompt(contenido=contenido_pdf)"
   ]
  },
  {
   "cell_type": "code",
   "execution_count": null,
   "id": "09fe8b4d-ed7e-4441-b35e-150f5fe137ab",
   "metadata": {},
   "outputs": [],
   "source": [
    "solicitud_completa = chat_prompt.format_prompt(contenido=contenido_pdf).to_messages()\n",
    "result = chat.invoke(solicitud_completa)\n",
    "result.content"
   ]
  },
  {
   "cell_type": "code",
   "execution_count": null,
   "id": "023a4b00-16bd-48ac-ae72-96da318d44b2",
   "metadata": {},
   "outputs": [],
   "source": [
    "#Resumir el documento completo\n",
    "#Creamos una string concatenando el contenido de todas las páginas\n",
    "documento_completo = \"\"\n",
    "for page in pages:\n",
    "    documento_completo += page.page_content  # Supongamos que cada página tiene un atributo 'text'\n",
    "\n",
    "print(documento_completo)"
   ]
  },
  {
   "cell_type": "code",
   "execution_count": null,
   "id": "7becc472-d7b3-4dbd-b7fd-ad1b25ea5af7",
   "metadata": {},
   "outputs": [],
   "source": [
    "solicitud_completa = chat_prompt.format_prompt(contenido=documento_completo).to_messages()\n",
    "result = chat.invoke(solicitud_completa)"
   ]
  },
  {
   "cell_type": "code",
   "execution_count": null,
   "id": "afe79dec-50a8-483a-8c84-3d5b65b3df34",
   "metadata": {},
   "outputs": [],
   "source": [
    "result.content"
   ]
  },
  {
   "cell_type": "markdown",
   "id": "957f8fb7-2250-47e0-80f5-34d504919261",
   "metadata": {},
   "source": [
    "## Integración con otras plataformas.\n",
    "\n",
    "Existen otros cargadores de documentos que son denominados \"integraciones\" y pueden ser considerados esencialmente lo mismo que los cargadores normales vistos en la sección anterior, pero con la salvedad y la ventaja de que están integrados con otras plataformas como por ejemplo:\n",
    "\n",
    "* Plataforma de terceros (como Google Cloud, AWS, Google Drive, Dropbox,…)\n",
    "\n",
    "* Base de datos (como MongoDB)\n",
    "\n",
    "* Sitio web específico, como Wikipedia\n",
    "\n",
    "* Permiten cargar vídeos de Youtube (por ejemplo, crear una aplicación de preguntas y respuestas en base a vídeos de Youtube ), conversaciones de WhatsApp y un sinfín de posibilidades.\n",
    "\n",
    "Con todas estas integraciones, vamos a tener la ventaja de cargar esta información en una base de datos vectorial y después consultar esa información con todas las ventajas que esta información nos puede proporcionar.\n",
    "\n",
    "\n",
    "La documentación sobre este tipo de cargadores (document loaders - integraciones), se tiene en este enlace: \n",
    "\n",
    "https://python.langchain.com/v0.2/docs/integrations/document_loaders/\n",
    "\n",
    "### Cargar informaciones de wikipedia.\n",
    "\n",
    "A continuación vamos a mostrar un caso de usos que consiste en cargar información de la wikipedia. Como siempre cargamos los paquetes correspondientes y cargamos el chat."
   ]
  },
  {
   "cell_type": "code",
   "execution_count": null,
   "id": "86debae2-3ec7-4a85-94bf-5ee29f6dbf08",
   "metadata": {},
   "outputs": [],
   "source": [
    "import langchain\n",
    "from langchain_openai import ChatOpenAI\n",
    "from langchain.prompts import PromptTemplate, SystemMessagePromptTemplate,ChatPromptTemplate, HumanMessagePromptTemplate\n",
    "\n",
    "\n",
    "chat = ChatOpenAI(\n",
    "    model=\"llama3.2\",\n",
    "    base_url = 'http://localhost:11434/v1',\n",
    "    api_key='ollama', # required, but unused,\n",
    ")"
   ]
  },
  {
   "cell_type": "code",
   "execution_count": null,
   "id": "ded7b1ee-98c1-41c3-aeab-b79413a2489f",
   "metadata": {},
   "outputs": [],
   "source": [
    "#!pip install wikipedia"
   ]
  },
  {
   "cell_type": "code",
   "execution_count": null,
   "id": "ef4b997e-253f-4e66-ace8-ebfcff32054b",
   "metadata": {},
   "outputs": [],
   "source": [
    "from langchain.document_loaders import WikipediaLoader # pip install wikipedia en una terminal"
   ]
  },
  {
   "cell_type": "markdown",
   "id": "c2167829-166d-4d97-b8de-913674c3d696",
   "metadata": {},
   "source": [
    "Definimos la siguiente función que es la que nos va a servir para obtener y ejecutar lo que necesitamos para hacer consultas apoyadas en la información que figura en la wikipedia."
   ]
  },
  {
   "cell_type": "code",
   "execution_count": null,
   "id": "c5d52dbe-3899-46e8-a398-634c95fa1dde",
   "metadata": {},
   "outputs": [],
   "source": [
    "def responder_wikipedia(persona,pregunta_arg):\n",
    "    # Obtener artículo de wikipedia\n",
    "    docs = WikipediaLoader(query=persona,lang=\"es\",load_max_docs=10) #parámetros posibles en: https://python.langchain.com/v0.2/docs/integrations/document_loaders/wikipedia/\n",
    "    # Observar que el valor de \"persona\" lo pasamos como parámetro a la función\n",
    "    contexto_extra = docs.load()[0].page_content #para que sea más rápido solo pásamos el primer documento [0] como contexto extra\n",
    "    \n",
    "    # Pregunta de usuario, que se la pasamos como parámetro de la función\n",
    "    human_prompt = HumanMessagePromptTemplate.from_template('Responde a esta pregunta\\n{pregunta}, aquí tienes contenido extra:\\n{contenido}')\n",
    "    \n",
    "    # Construir prompt\n",
    "    chat_prompt = ChatPromptTemplate.from_messages([human_prompt])\n",
    "    \n",
    "    # Resultado\n",
    "    result = chat.invoke(chat_prompt.format_prompt(pregunta=pregunta_arg,contenido=contexto_extra).to_messages())\n",
    "    \n",
    "    print(result.content)"
   ]
  },
  {
   "cell_type": "code",
   "execution_count": null,
   "id": "b881125e-adac-4818-8c85-42e237db731a",
   "metadata": {},
   "outputs": [],
   "source": [
    "responder_wikipedia(\"José María Aznar\",\"¿En qué localidad nació?\")"
   ]
  },
  {
   "cell_type": "markdown",
   "id": "a2d7ffc2-60d4-49b9-a21d-9e71ac6e68ad",
   "metadata": {},
   "source": [
    "## Transformación de documentos.\n",
    "```{index} transformadores de documentos, chunks\n",
    "```\n",
    "\n",
    "Hay que tener en cuenta que después de cargar un objeto Documento desde una fuente, terminará con cadenas de texto desde el campo page_content. Entonces puede haber situaciones en las que la longitud de las cadenas asó obtenidas pueden ser muy grandes  para alimentar un modelo (por ejemplo, límite de 8k tokens ~6k palabras). Para resolver este problema, Langchain proporciona **transformadores de documentos** que permiten dividir fácilmente cadenas del page_content en fragmentos (que se conocen como chunks).\n",
    "\n",
    "Estos fragmentos servirán más adelante además como componentes útiles en forma de vectores a partir de una incrustación (embeddings ), que luego podremos buscar utilizando una similitud de distancia más adelante. Por ejemplo, si queremos alimentar un LLM con contexto adicional para que sirva como chatbot de preguntas y respuestas, si tenemos varios vectores guardados cada uno con una información diferente, la búsqueda será más rápida puesto que se hará un cálculo del vector guardado que tiene mayor similaridad en lugar de buscar en todos los datos globales.\n",
    "\n",
    "Veamos ahora un ejemplo ilustrativo de cómo poder hacer todo esto. Para hacer esto vamos a cargar un documento bastante extenso y con mucha información."
   ]
  },
  {
   "cell_type": "code",
   "execution_count": null,
   "id": "7a3fd289-2343-48ef-8192-aeddea8533f6",
   "metadata": {},
   "outputs": [],
   "source": [
    "with open('Fuentes datos/Historia España.txt', encoding=\"utf8\") as file:\n",
    "    texto_completo = file.read()\n",
    "\n",
    "# Números de caracteres\n",
    "len(texto_completo)"
   ]
  },
  {
   "cell_type": "markdown",
   "id": "7b0a1369-b93e-4ba3-a2c9-c1427778c52b",
   "metadata": {},
   "source": [
    "Como podemos ver es un documento bastante extenso y lo que vamos a hacer es dividirlo en trozos más pequeños, los cuales tienen la denominación de chunks."
   ]
  },
  {
   "cell_type": "code",
   "execution_count": null,
   "id": "aa955283-9a6e-4b01-a015-9cc1fe483fc1",
   "metadata": {},
   "outputs": [],
   "source": [
    "from langchain.text_splitter import CharacterTextSplitter"
   ]
  },
  {
   "cell_type": "code",
   "execution_count": null,
   "id": "51663b01-7f8d-4406-9c26-67118d6d8b43",
   "metadata": {},
   "outputs": [],
   "source": [
    "text_splitter = CharacterTextSplitter(separator=\"\\n\",chunk_size=1000) #Indicamos que divida cuando se encuentra 1 salto de línea y trate de hacer fragmentos de 1000 caracteres\n",
    "# Intenta hacer los chunks más o menos del tamaño que se le da, en este caso de 1000"
   ]
  },
  {
   "cell_type": "markdown",
   "id": "a6f353f3-a50e-4443-8e51-f87f91a49131",
   "metadata": {},
   "source": [
    "Existen muchas más posibilidades para hacer esto, las cuales se pueden ver en este enlace: \n",
    "https://python.langchain.com/api_reference/text_splitters/character/langchain_text_splitters.character.CharacterTextSplitter.html\n",
    "\n",
    "Entre estas posibilidaddes está una muy utilizada y es que los cuhunks puedan tener cierto solpamientos, es decir que las últimas palabras del chunk anterior, sean también las palabras del chunk siguiente. Este efecto lo conseguimos con la opción *chunk_overlap*."
   ]
  },
  {
   "cell_type": "code",
   "execution_count": null,
   "id": "b38ca7ea-605d-4917-bc71-410314da87a8",
   "metadata": {},
   "outputs": [],
   "source": [
    "texts = text_splitter.create_documents([texto_completo]) #Creamos documentos gracias al transformador"
   ]
  },
  {
   "cell_type": "code",
   "execution_count": null,
   "id": "2e5d99f2-35ee-4c57-a9c1-e1b672308ec1",
   "metadata": {},
   "outputs": [],
   "source": [
    "print(type(texts)) #Verificamos el tipo del objeto obtenido\n",
    "print('\\n')\n",
    "print(type(texts[0])) #Verificamos el tipo de cada elemento\n",
    "print('\\n')\n",
    "print(texts[0])"
   ]
  },
  {
   "cell_type": "code",
   "execution_count": null,
   "id": "2f65293d-9424-41b2-8efc-8b6e24c53639",
   "metadata": {},
   "outputs": [],
   "source": [
    "len(texts[0].page_content)"
   ]
  },
  {
   "cell_type": "code",
   "execution_count": null,
   "id": "19155f35-6e55-4706-bf7b-3c759d63ff8d",
   "metadata": {},
   "outputs": [],
   "source": [
    "texts[1]"
   ]
  },
  {
   "cell_type": "code",
   "execution_count": null,
   "id": "d8b4f1d1-e311-4a32-ba27-1042ed589d14",
   "metadata": {},
   "outputs": [],
   "source": [
    "# Veamos la longitud de cada uno de los chunks que se han obtenido\n",
    "for h in texts:\n",
    "    print(len(h.page_content))"
   ]
  },
  {
   "attachments": {},
   "cell_type": "markdown",
   "id": "550871e4-b15e-458b-8c4e-c113a0ddcad9",
   "metadata": {},
   "source": [
    "## Incrustación de texto y creación de vectores (embeging)\n",
    "```{index} Embeding, OllamaEmbeddings\n",
    "```\n",
    "\n",
    "**NOTA**: [En este otro apartado](embeding), también se puede ver desde diferentes puntos de vista cómo poder trabajar con este tipo embeding.\n",
    "\n",
    "De cara a trabajar con textos en IA, lo que se suele hacer es transformar esos textos en una representación de los mismos mediante una serie de vectores que contienen información semántica de esos textos. Langchain admite muchas incrustaciones de texto, que pueden convertir directamente texto en una representación vectorizada incrustada.\n",
    "\n",
    "En resumen, los modelos incrustados crean una representación vectorial de un fragmento de texto . Puedes pensar en un vector como una matriz de números que captura el significado semántico del texto. Al representar el texto de esta manera, puede realizar operaciones matemáticas que le permiten hacer cosas como buscar otras partes del texto que tengan un significado más similar.\n",
    "\n",
    "![](fig/embeding.PNG)\n",
    "\n",
    "Estos modelos de embeding que utiliza LangChain, se puede ver su explicación en el siguiente enlace:\n",
    "\n",
    "https://python.langchain.com/v0.2/docs/concepts/#embedding-models\n",
    "\n",
    "**NOTA** : Los diferentes modelos de incrustación puede que no interactúen entre sí, lo que significa que necesitaría volver a incrustar un conjunto completo de documentos si cambiara de modelo de incrustación en el futuro. En este se indicará cómo utilizar OpenAI, pues es uno de los métodos más utilizados, pero como se intenta hacer una explicación de estos métodos desde un punto de vista didáctico, sin incurrir en costes, se utilizará ollama para hacer cuestiones prácticas sobre estos métodos.\n",
    "\n",
    "Se aconseja al lector mirar estos enlaces:\n",
    "\n",
    "* <a href=\"https://python.langchain.com/docs/integrations/text_embedding/ollama/\" target=\"_blank\">Presentación de OllamaEmbeddings </a>\n",
    "\n",
    "* <a href=\"https://python.langchain.com/api_reference/ollama/embeddings/langchain_ollama.embeddings.OllamaEmbeddings.html\" target=\"_blank\">Api de OllamaEmbeddings </a>\n",
    "\n",
    "A continuación se muestra un caso práctico sobre cómo utilizar todos estos procesos."
   ]
  },
  {
   "cell_type": "code",
   "execution_count": null,
   "id": "444c554f-ff6c-42a3-b685-c92273957633",
   "metadata": {},
   "outputs": [],
   "source": [
    "import langchain\n",
    "from langchain_openai import ChatOpenAI\n",
    "from langchain.prompts import PromptTemplate, SystemMessagePromptTemplate,ChatPromptTemplate, HumanMessagePromptTemplate\n",
    "\n",
    "chat = ChatOpenAI(\n",
    "    model=\"llama3.2\",\n",
    "    base_url = 'http://localhost:11434/v1',\n",
    "    api_key='ollama', # required, but unused,\n",
    ")"
   ]
  },
  {
   "cell_type": "markdown",
   "id": "662199ae-90a6-4269-a28a-33a80b1f2f91",
   "metadata": {},
   "source": [
    "Si quisiéramos hacer esto desde OpenAi, el código a utilizar sería el siguiente: (Se ha dejado comentado el código)\n",
    "\n",
    "**NOTA**: Para ver cómo empezar con OpenAi, se recomienda ver [este apartado](pago) "
   ]
  },
  {
   "cell_type": "code",
   "execution_count": null,
   "id": "16be6a33-18f5-4837-9f62-03716c440f9d",
   "metadata": {},
   "outputs": [],
   "source": [
    "#from langchain_openai import OpenAIEmbeddings\n",
    "# embeddings = OpenAIEmbeddings(openai_api_key=api_key)\n",
    "# texto = \"Esto es un texto enviado a OpenAI para ser incrustado en un vector n-dimensional\"\n",
    "#embedded_text = embeddings.embed_query(texto)"
   ]
  },
  {
   "cell_type": "markdown",
   "id": "da7503a4-a854-445d-8acb-d2a0b2828ca1",
   "metadata": {},
   "source": [
    "Sin embargo y con el fin de evitar costes, vamos a ver cómo haríamos estos embeding, utilizando ollama desde LangChain."
   ]
  },
  {
   "cell_type": "code",
   "execution_count": null,
   "id": "0310837e-9f9b-466b-a948-f5475aad3563",
   "metadata": {},
   "outputs": [],
   "source": [
    "from langchain_ollama import OllamaEmbeddings"
   ]
  },
  {
   "cell_type": "code",
   "execution_count": null,
   "id": "76bf4143-413d-4996-acbf-813f37cf10ee",
   "metadata": {},
   "outputs": [],
   "source": [
    "from langchain_ollama import OllamaEmbeddings\n",
    "\n",
    "embeddings = OllamaEmbeddings(\n",
    "    model=\"llama3.2\",\n",
    ")\n",
    "\n",
    "texto = \"Este es el texto que vamos a vectorizar utilizando para ello llama que sale gratuito\"\n",
    "embedded_text = embeddings.embed_query(texto)"
   ]
  },
  {
   "cell_type": "code",
   "execution_count": null,
   "id": "c2e9775c-50da-4458-aa17-74758c49f545",
   "metadata": {},
   "outputs": [],
   "source": [
    "type(embedded_text)"
   ]
  },
  {
   "cell_type": "code",
   "execution_count": null,
   "id": "3e83b7c4-ffcb-4d07-a00c-70912b815550",
   "metadata": {},
   "outputs": [],
   "source": [
    "embedded_text[:10]"
   ]
  },
  {
   "cell_type": "code",
   "execution_count": null,
   "id": "aa90275c-1513-4050-90d9-fb1764a3b7cd",
   "metadata": {},
   "outputs": [],
   "source": [
    "# Este mismo ejercicio pero de forma asíncrona\n",
    "embedded_text = await embeddings.aembed_query(texto)"
   ]
  },
  {
   "cell_type": "markdown",
   "id": "2081f443-9b5a-4ce5-8885-2246aa76fa9b",
   "metadata": {},
   "source": [
    "Si quisiéramos hacer esto con varios textos deberíamos utilizar una expresión similar a la siguiente:\n",
    "\n",
    "```\n",
    "input_texts = [\"Document 1...\", \"Document 2...\"]\n",
    "vectors = embed.embed_documents(input_texts)\n",
    "print(len(vectors))\n",
    "# The first 3 coordinates for the first vector\n",
    "print(vectors[0][:3])\n",
    "```"
   ]
  },
  {
   "cell_type": "markdown",
   "id": "d6053fad-a0f8-4ae4-822d-07e0d76bc3d8",
   "metadata": {},
   "source": [
    "### Incrustación de documentos.\n",
    "\n",
    "A continuación se muestra un ejemplo, para ver cómo podemos hacer embedings de documentos, que es la situación real con la que nos encontraremos al trabajar con IA.\n",
    "\n",
    "Lo primero que hacemos es cargar un documento de tipo CSV\n"
   ]
  },
  {
   "cell_type": "code",
   "execution_count": null,
   "id": "bd4b56f2-4501-4438-b307-3f5747a005c3",
   "metadata": {},
   "outputs": [],
   "source": [
    "from langchain.document_loaders import CSVLoader"
   ]
  },
  {
   "cell_type": "code",
   "execution_count": null,
   "id": "ea2a0ec2-99a4-43b3-8a1a-5eb60082ca92",
   "metadata": {},
   "outputs": [],
   "source": [
    "loader = CSVLoader('Fuentes datos/datos_ventas_small.csv',csv_args={'delimiter': ';'})\n",
    "data = loader.load()\n",
    "type(data)"
   ]
  },
  {
   "cell_type": "code",
   "execution_count": null,
   "id": "820f28ce-9484-459f-b3ce-1c5874131547",
   "metadata": {},
   "outputs": [],
   "source": [
    "type(data[0])"
   ]
  },
  {
   "cell_type": "code",
   "execution_count": null,
   "id": "f3d2a83b-b445-4b9a-9dae-115e2d023066",
   "metadata": {},
   "outputs": [],
   "source": [
    "#No podemos incrustar el objeto \"data\" puesto que es una lista de documentos, lo que espera es una string\n",
    "# Ejecutar el siguiente comando nos daría un error\n",
    "#embedded_docs = embeddings.embed_documents(data)"
   ]
  },
  {
   "cell_type": "code",
   "execution_count": null,
   "id": "bf313f54-4ee1-42d1-a5ea-db5e855270f3",
   "metadata": {},
   "outputs": [],
   "source": [
    "#Creamos una comprensión de listas concatenando el campo \"page_content\" de todos los documentos existentes en la lista \"data\"\n",
    "[elemento.page_content for elemento in data]"
   ]
  },
  {
   "cell_type": "code",
   "execution_count": null,
   "id": "9ea6d261-acfb-453f-a222-44c114e4071e",
   "metadata": {},
   "outputs": [],
   "source": [
    "embedded_docs = embeddings.embed_documents([elemento.page_content for elemento in data])"
   ]
  },
  {
   "cell_type": "code",
   "execution_count": null,
   "id": "fa685a2f-e0d1-4c6f-baf4-c7828b4c4d8a",
   "metadata": {},
   "outputs": [],
   "source": [
    "#Verificamos cuántos vectores a creado (1 por cada registro del fichero CSV con datos)\n",
    "len(embedded_docs)"
   ]
  },
  {
   "cell_type": "code",
   "execution_count": null,
   "id": "93ff11f6-b5c8-4147-be1b-dd375c643136",
   "metadata": {},
   "outputs": [],
   "source": [
    "#Vemos un ejemplo del vector creado para el primer registro\n",
    "embedded_docs[1][:10]"
   ]
  },
  {
   "cell_type": "markdown",
   "id": "a32ca5d3-0eb4-44fd-bfcc-7b65c6153c05",
   "metadata": {},
   "source": [
    "(almacenamiento)=\n",
    "## Almacenamiento de vectores en BD.\n",
    "```{index} BD vectoriales\n",
    "```\n",
    "\n",
    "Hasta ahora hemos creado incrustaciones ( embeddings ) en memoria RAM como una lista de Python. Estos embedings en el momento en que nos salgamos de la aplicación se pierden, entonces ¿cómo podemos asegurarnos de que estas incorporaciones persistan en alguna solución de almacenamiento más permanente?\n",
    "\n",
    "Para conseguir que esta información quede almacenada para futuras consultas, utilizamos un almacén de vectores, también conocido como base de datos de vectores , sus aspectos claves:\n",
    "\n",
    "* Puede almacenar grandes vectores de N dimensiones.\n",
    "\n",
    "* Puede indexar directamente un vector incrustado y asociarlo a su documento string\n",
    "\n",
    "* Se puede \"consultar\", lo que permite una búsqueda de similitud de coseno entre un nuevo vector que no está en la base de datos y los vectores almacenados.\n",
    "  \n",
    "* Puede agregar, actualizar o eliminar fácilmente nuevos vectores.\n",
    "\n",
    "* Al igual que con los LLM y los modelos de chat, Langchain ofrece muchas opciones diferentes para almacenes de vectores.\n",
    "\n",
    "* Usaremos una base de datos de vectores open source SKLearn , pero gracias a Langchain , la sintaxis es estándar para el resto de BD.\n",
    "\n",
    "Para hacer este tipo de persistencia LangChain nos ofrece una amplia variedad de Bases de datos, las cuales las podemos consultar utilizando el siguiente link:\n",
    "\n",
    "https://python.langchain.com/v0.2/docs/integrations/vectorstores/\n",
    "\n",
    "La metodología que se emplea para este tipo de persistencia de la información, de forma esquemática se puede ver en la siguiente ilustración:\n",
    "\n",
    "![](fig/BD.PNG)"
   ]
  },
  {
   "cell_type": "markdown",
   "id": "b24d800c-6f31-48a1-bc9b-2ec765a12999",
   "metadata": {},
   "source": [
    "Como ya hemos hecho en casos anteriores, y con la finalidad de mostrar como actuar cuando se quiere hacer este tipo de cosas en IA, a continuación se pasa a ilustrar todo esto con algún ejemplo totalmente práctico."
   ]
  },
  {
   "cell_type": "code",
   "execution_count": null,
   "id": "cf4e55ee-d637-42ec-a0d5-634087ba2e28",
   "metadata": {},
   "outputs": [],
   "source": [
    "from langchain_openai import OpenAIEmbeddings\n",
    "from langchain.text_splitter import CharacterTextSplitter\n",
    "from langchain.document_loaders import TextLoader"
   ]
  },
  {
   "cell_type": "markdown",
   "id": "bbc66aeb-8081-43e4-a151-3fb0113486ac",
   "metadata": {},
   "source": [
    "Cargamos el documento y lo dividimos"
   ]
  },
  {
   "cell_type": "code",
   "execution_count": null,
   "id": "ff053902-b536-4e68-b073-07d104fd7b9b",
   "metadata": {},
   "outputs": [],
   "source": [
    "# Cargar el documento\n",
    "loader = TextLoader('Fuentes datos/Historia España.txt', encoding=\"utf8\")\n",
    "documents = loader.load()\n",
    "\n",
    "# Dividir en chunks\n",
    "text_splitter = CharacterTextSplitter.from_tiktoken_encoder(chunk_size=500) #Otro método de split basándose en tokens\n",
    "docs = text_splitter.split_documents(documents)"
   ]
  },
  {
   "cell_type": "markdown",
   "id": "d79a43c0-1ade-41e8-854f-204531b9a06c",
   "metadata": {},
   "source": [
    "Procedemos a la creación de embedings"
   ]
  },
  {
   "cell_type": "code",
   "execution_count": null,
   "id": "ebcd2d1e-a0fd-4c4e-a998-3f1e187c3ec1",
   "metadata": {},
   "outputs": [],
   "source": [
    "funcion_embedding = OllamaEmbeddings(\n",
    "    model=\"llama3.2\",\n",
    ")"
   ]
  },
  {
   "cell_type": "markdown",
   "id": "8b294552-70f3-4b92-8618-3185df5875ba",
   "metadata": {},
   "source": [
    "Para el almacenamiento, utilizamos *SKLearn Vector Store*"
   ]
  },
  {
   "cell_type": "code",
   "execution_count": null,
   "id": "b3a168ee-7663-418a-84db-24c73243a4ba",
   "metadata": {},
   "outputs": [],
   "source": [
    "from langchain_community.vectorstores import SKLearnVectorStore #pip install scikit-learn / pip install pandas pyarrow"
   ]
  },
  {
   "cell_type": "code",
   "execution_count": null,
   "id": "a7e6c911-c1ea-456d-8c44-c097fc66fedc",
   "metadata": {},
   "outputs": [],
   "source": [
    "#!pip install pandas pyarrow"
   ]
  },
  {
   "cell_type": "code",
   "execution_count": null,
   "id": "505f85fa-49bd-4829-b7a5-2137fd657a34",
   "metadata": {},
   "outputs": [],
   "source": [
    "persist_path=\"./BD/ejemplosk_embedding_db\"  #ruta donde se guardará la BBDD vectorizada\n",
    "\n",
    "#Creamos la BBDD de vectores a partir de los documentos y la función embeddings\n",
    "vector_store = SKLearnVectorStore.from_documents(\n",
    "    documents=docs,\n",
    "    embedding=funcion_embedding,\n",
    "    persist_path=persist_path,\n",
    "    serializer=\"parquet\", #el serializador o formato de la BD lo definimos como parquet\n",
    ")"
   ]
  },
  {
   "cell_type": "code",
   "execution_count": null,
   "id": "35a20e6d-29d3-4488-86b7-288a0a521e1a",
   "metadata": {},
   "outputs": [],
   "source": [
    "# Fuerza a guardar los nuevos embeddings en el disco\n",
    "vector_store.persist()"
   ]
  },
  {
   "cell_type": "markdown",
   "id": "f260d233-6854-4c91-aff5-106bfff911b8",
   "metadata": {},
   "source": [
    "Una vez ejecutado el anterior código, y apodemos ver en nuestro disco duro la base de datos creada en la carpeta BD y con denominación ejemplosk_embedding_db.\n",
    "\n",
    "### Búsqueda en la Base de Datos.\n",
    "\n",
    "Una vez creada la base de datos podremos ya hacer consultas de similitud de cadenas, para que nos encuentre en la BD los párrafos más similares al litereal que le pasamos. Además nos devuelve párrafos ordenados de mayor a menor similitud."
   ]
  },
  {
   "cell_type": "code",
   "execution_count": null,
   "id": "a9a4204c-7970-45aa-b7aa-4a305fc13d06",
   "metadata": {},
   "outputs": [],
   "source": [
    "#Creamos un nuevo documento que será nuestra \"consulta\" para buscar el de mayor similitud en nuestra Base de Datos de Vectores y devolverlo\n",
    "consulta = \"dame información de la Primera Guerra Mundial\"\n",
    "docs = vector_store.similarity_search(consulta)\n",
    "print(docs[0].page_content)"
   ]
  },
  {
   "cell_type": "markdown",
   "id": "15163e5b-608e-4c53-9199-5a312c2c968a",
   "metadata": {},
   "source": [
    "El resultado que obtenemos no es lo que realmente estamos buscando, pero hay que tener en cuenta que estamos trabajando en modo local y con resursos muy limitados debido a los escasos recursos que los ordenadores personales tienen para este tipo de trabajos de IA. Muy posiblemente si esto lo hacemos utilizando el api-key de OpenAi el resultado hubiera sido más acertado y además más rápido\n",
    "\n",
    "## Recuprar datos de una BD.\n",
    "\n",
    "Una vez creada la base de datos, y como ya los datos se han persistido y están almacenados en la base de datos, podemos recuperar en cualquier momento la información de esa base de datos y hacer consultas sobre la misma. A continuación se muestra cómo poder hacer esto."
   ]
  },
  {
   "cell_type": "code",
   "execution_count": null,
   "id": "5534a007-66e0-4107-b08f-21d50115726f",
   "metadata": {},
   "outputs": [],
   "source": [
    "vector_store_connection = SKLearnVectorStore(\n",
    "    embedding=funcion_embedding, persist_path=persist_path, serializer=\"parquet\"\n",
    ")\n",
    "print(\"Una instancia de la BBDD de vectores se ha cargado desde \", persist_path)"
   ]
  },
  {
   "cell_type": "code",
   "execution_count": null,
   "id": "3bed41d2-2161-4758-8d49-c08317fda9fa",
   "metadata": {},
   "outputs": [],
   "source": [
    "vector_store_connection"
   ]
  },
  {
   "cell_type": "code",
   "execution_count": null,
   "id": "a0cf54c7-2e6a-4c04-9c72-c9d17ad42270",
   "metadata": {},
   "outputs": [],
   "source": [
    "nueva_consulta = \"¿Qué paso en el siglo de Oro?\"\n",
    "docs = vector_store_connection.similarity_search(nueva_consulta)\n",
    "print(docs[0].page_content)"
   ]
  },
  {
   "cell_type": "markdown",
   "id": "1a4cdd8d-03aa-4224-a33b-3bb9dc4502db",
   "metadata": {},
   "source": [
    "## Alternativa con ChromaDB.\n",
    "\n",
    "La base de datos ChromaDB, también es muy utilizada para realizar este tipo de tareas."
   ]
  },
  {
   "cell_type": "code",
   "execution_count": null,
   "id": "1bc77d7f-0ea2-475f-bbdc-ea8f0007db72",
   "metadata": {},
   "outputs": [],
   "source": [
    "#!pip install langchain_chroma"
   ]
  },
  {
   "cell_type": "code",
   "execution_count": null,
   "id": "0dde476f-86fd-4e79-96e8-9c7749b29f56",
   "metadata": {},
   "outputs": [],
   "source": [
    "import chromadb #pip install chromadb en una terminal\n",
    "from langchain_chroma import Chroma #pip install langchain_chroma en una terminal"
   ]
  },
  {
   "cell_type": "code",
   "execution_count": null,
   "id": "127a3c43-95dd-4e51-9513-e2df89df333d",
   "metadata": {},
   "outputs": [],
   "source": [
    "# Cargar en ChromaDB\n",
    "#db = Chroma.from_documents(docs, funcion_embedding,collection_name=\"langchain\",persist_directory='./ejemplo_embedding_db')\n",
    "#Se crean en el directorio persistente la carpeta con los vectores y otra con las string, aparte de una carpeta \"index\" que mapea vectores y strings\n",
    "# Fuerzar a guardar los nuevos embeddings en el disco\n",
    "#db.persist()"
   ]
  },
  {
   "cell_type": "markdown",
   "id": "97add63c-5d6e-4614-abc7-3461fb60d58a",
   "metadata": {},
   "source": [
    "## Añadir nueva información a la BD de vectores"
   ]
  },
  {
   "cell_type": "code",
   "execution_count": null,
   "id": "23a68112-7cb8-4c4b-a50b-8b1e6e93c4b1",
   "metadata": {},
   "outputs": [],
   "source": [
    "# Cargar documento y dividirlo\n",
    "loader = TextLoader('Fuentes datos/Nuevo_documento.txt', encoding=\"utf8\")\n",
    "documents = loader.load()"
   ]
  },
  {
   "cell_type": "code",
   "execution_count": null,
   "id": "d5aaa18d-2c79-4a6b-a5d4-565d512c368e",
   "metadata": {},
   "outputs": [],
   "source": [
    "text_splitter = CharacterTextSplitter.from_tiktoken_encoder(chunk_size=500)\n",
    "docs = text_splitter.split_documents(documents)"
   ]
  },
  {
   "cell_type": "code",
   "execution_count": null,
   "id": "8c981c9a-86b7-498b-9d73-758154f82ea2",
   "metadata": {},
   "outputs": [],
   "source": [
    "# Cargar en Chroma\n",
    "#db = Chroma.from_documents(docs, embedding_function,persist_directory='./ejemplo_embedding_db')\n",
    "# docs = db.similarity_search('insertar_nueva_búsqueda')"
   ]
  },
  {
   "cell_type": "markdown",
   "id": "5b9b032e-7b92-4450-9d3d-938f4c934cdb",
   "metadata": {},
   "source": [
    "## Comprensión y optimización de resultados a partir de LLMs.\n",
    "\n",
    "En el apartado anterior hemos visto cómo poder encontrar párrafos de un texto que se asimilan mucho a la consulta que estamos planteando. Pero el resultado que obtenemos no presenta el formato más adecuado para la respuesta que buscamos. En este apartado vamos a ver cómo podemos conseguir esto.\n",
    "\n",
    "No estamos realizando compresión en el sentido tradicional, sino que utilizamos un LLM para tomar una salida de texto de un documento de mayor tamaño y la limpia / optimiza en una salida más corta y relevante."
   ]
  },
  {
   "cell_type": "code",
   "execution_count": null,
   "id": "c0019c88-4154-4594-8d7c-6da84a7035d9",
   "metadata": {},
   "outputs": [],
   "source": [
    "from langchain.document_loaders import WikipediaLoader\n",
    "from langchain_openai import OpenAIEmbeddings\n",
    "from langchain.text_splitter import CharacterTextSplitter\n",
    "from langchain.document_loaders import TextLoader\n",
    "from langchain_community.vectorstores import SKLearnVectorStore"
   ]
  },
  {
   "cell_type": "code",
   "execution_count": null,
   "id": "719a923e-ae00-4cfe-934d-7046d9f251a5",
   "metadata": {},
   "outputs": [],
   "source": [
    "#cargamos documentos desde la wikipedia\n",
    "loader = WikipediaLoader(query='Lenguaje Python',lang=\"es\")\n",
    "documents = loader.load()"
   ]
  },
  {
   "cell_type": "markdown",
   "id": "158c4958-bb83-409d-91f4-4aebae9a7915",
   "metadata": {},
   "source": [
    "Obtenemos de esta manera un documento lo suficientemente grande como para poder trabajar con el para demostrar esta facilidad de LangChain "
   ]
  },
  {
   "cell_type": "code",
   "execution_count": null,
   "id": "b955e6a6-16dd-4450-a04b-b2e47391937a",
   "metadata": {},
   "outputs": [],
   "source": [
    "len(documents)"
   ]
  },
  {
   "cell_type": "markdown",
   "id": "0cb5ac5a-96df-42d0-a26a-8ae0f4f24847",
   "metadata": {},
   "source": [
    "Procedemos a dividir el documento"
   ]
  },
  {
   "cell_type": "code",
   "execution_count": null,
   "id": "81c043a1-4d2e-4a6b-a799-cc0f37d44bd9",
   "metadata": {},
   "outputs": [],
   "source": [
    "# División en fragmentos\n",
    "text_splitter = CharacterTextSplitter.from_tiktoken_encoder(chunk_size=500)\n",
    "docs = text_splitter.split_documents(documents)"
   ]
  },
  {
   "cell_type": "code",
   "execution_count": null,
   "id": "f6eb1fda-0c01-4c27-a30e-6899820d6b35",
   "metadata": {},
   "outputs": [],
   "source": [
    "len(docs)"
   ]
  },
  {
   "cell_type": "code",
   "execution_count": null,
   "id": "a925ad0c-1fc3-431b-9887-d8a8ba5bb705",
   "metadata": {},
   "outputs": [],
   "source": [
    "funcion_embedding = OllamaEmbeddings(\n",
    "    model=\"llama3.2\",\n",
    ")"
   ]
  },
  {
   "cell_type": "code",
   "execution_count": null,
   "id": "b41f4a61-acb6-4141-8878-4c3cd9d43d33",
   "metadata": {},
   "outputs": [],
   "source": [
    "persist_path=\"./BD/ejemplo_wiki_bd\"  #ruta donde se guardará la BBDD vectorizada\n",
    "\n",
    "#Creamos la BBDD de vectores a partir de los documentos y la función embeddings\n",
    "vector_store = SKLearnVectorStore.from_documents(\n",
    "    documents=docs,\n",
    "    embedding=funcion_embedding,\n",
    "    persist_path=persist_path,\n",
    "    serializer=\"parquet\", #el serializador o formato de la BD lo definimos como parquet\n",
    ")"
   ]
  },
  {
   "cell_type": "code",
   "execution_count": null,
   "id": "04874f1c-9c9e-4af6-97ff-92e65f6cf40c",
   "metadata": {},
   "outputs": [],
   "source": [
    "# Fuerza a guardar los nuevos embeddings en el disco\n",
    "vector_store.persist()"
   ]
  },
  {
   "cell_type": "markdown",
   "id": "f10df487-c772-4911-9e4f-c1a889a1a32e",
   "metadata": {},
   "source": [
    "Hacemos una consulta normal de similitud coseno"
   ]
  },
  {
   "cell_type": "code",
   "execution_count": null,
   "id": "e8041c89-2a51-4f1c-8307-c607cee88f4b",
   "metadata": {},
   "outputs": [],
   "source": [
    "#Creamos un nuevo documento que será nuestra \"consulta\" para buscar el de mayor similitud en nuestra Base de Datos de Vectores y devolverlo\n",
    "consulta = \"¿Por qué el lenguaje Python se llama así?\"\n",
    "docs = vector_store.similarity_search(consulta)\n",
    "print(docs[0].page_content)"
   ]
  },
  {
   "cell_type": "markdown",
   "id": "486aed1a-174e-4cae-add1-a8375d1d4c0f",
   "metadata": {},
   "source": [
    "Como podemos ver la respuesta obtenida ( como antes quizá sin mucho sentido para la pregunta formulada) presenta un aspecto que no es el más adecuado para la presentación a la persona que formula la pregunta. Por ello, a continuación vamos a ver cómo podemos reconducir esto para obtener un resultado  que se adapte más a nuestras pretensiones."
   ]
  },
  {
   "cell_type": "markdown",
   "id": "1a21fe48-e232-44df-9b6b-d729842d171c",
   "metadata": {},
   "source": [
    "### Consulta con compresión contextual usando LLMs.\n",
    "\n",
    "Para obtener el resultado pretendido, vamos a importar las siguientes librerías"
   ]
  },
  {
   "cell_type": "code",
   "execution_count": null,
   "id": "9fb80c92-c1ff-4a16-b740-9b6df7003a3c",
   "metadata": {},
   "outputs": [],
   "source": [
    "from langchain_openai import ChatOpenAI\n",
    "from langchain.retrievers import ContextualCompressionRetriever\n",
    "from langchain.retrievers.document_compressors import LLMChainExtractor"
   ]
  },
  {
   "cell_type": "code",
   "execution_count": null,
   "id": "bce6d0e2-f45e-4873-85c9-e42321e4bed9",
   "metadata": {},
   "outputs": [],
   "source": [
    "llm = ChatOpenAI(\n",
    "    model=\"llama3.2\", #el parámetro temperatura define la aleatoriedad de las respuestas, temperatura = 0 significa el mínimo de aleatoriedad\n",
    "    temperature=0,\n",
    "    api_key='ollama', # required, but unused,\n",
    ") \n",
    "compressor = LLMChainExtractor.from_llm(llm)\n"
   ]
  },
  {
   "cell_type": "code",
   "execution_count": null,
   "id": "fc885dda-67ea-40dc-941d-232b08dba9a9",
   "metadata": {},
   "outputs": [],
   "source": [
    "compression_retriever = ContextualCompressionRetriever(base_compressor=compressor, base_retriever=vector_store.as_retriever())"
   ]
  },
  {
   "cell_type": "code",
   "execution_count": null,
   "id": "fa913f91-9881-4a37-b176-abcbaae04758",
   "metadata": {},
   "outputs": [],
   "source": [
    "compressed_docs = compression_retriever.invoke(\"¿Por qué el lenguaje Python se llama así?\")"
   ]
  },
  {
   "cell_type": "code",
   "execution_count": null,
   "id": "cf20003d-f742-4a89-810f-2d06ad50a4e8",
   "metadata": {},
   "outputs": [],
   "source": [
    "compressed_docs[0].page_content"
   ]
  }
 ],
 "metadata": {
  "kernelspec": {
   "display_name": "Python 3 (ipykernel)",
   "language": "python",
   "name": "python3"
  },
  "language_info": {
   "codemirror_mode": {
    "name": "ipython",
    "version": 3
   },
   "file_extension": ".py",
   "mimetype": "text/x-python",
   "name": "python",
   "nbconvert_exporter": "python",
   "pygments_lexer": "ipython3",
   "version": "3.11.4"
  }
 },
 "nbformat": 4,
 "nbformat_minor": 5
}
